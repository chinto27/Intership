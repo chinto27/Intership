{
 "cells": [
  {
   "cell_type": "code",
   "execution_count": 6,
   "id": "5d467fa0",
   "metadata": {},
   "outputs": [],
   "source": [
    "import selenium\n",
    "from selenium import webdriver\n",
    "from selenium.webdriver.chrome.service import Service\n",
    "from selenium.webdriver.common.by import By\n",
    "from selenium.webdriver.common.keys import Keys\n",
    "import pandas as pd"
   ]
  },
  {
   "cell_type": "code",
   "execution_count": 7,
   "id": "57527666",
   "metadata": {},
   "outputs": [],
   "source": [
    "s = Service(\"D:/New folder/chromedriver-win64/chromedriver-win64/chromedriver.exe\")"
   ]
  },
  {
   "cell_type": "markdown",
   "id": "bfbbb39b",
   "metadata": {},
   "source": [
    "# Sneakers"
   ]
  },
  {
   "cell_type": "markdown",
   "id": "3f68a9d1",
   "metadata": {},
   "source": [
    "**Q4 First 100 sneaker from flipkart acraping Price,Product Description, and Brand**"
   ]
  },
  {
   "cell_type": "code",
   "execution_count": 3,
   "id": "1241c2a6",
   "metadata": {},
   "outputs": [],
   "source": [
    "driver = webdriver.Chrome(service = s)\n",
    "driver.get(\"https://www.flipkart.com/\")"
   ]
  },
  {
   "cell_type": "code",
   "execution_count": 4,
   "id": "85a7eecf",
   "metadata": {},
   "outputs": [],
   "source": [
    "enter = driver.find_element(By.XPATH,\"/html/body/div[1]/div/div[1]/div/div/div/div/div[1]/div/div[1]/div/div[1]/div[1]/header/div[1]/div[2]/form/div/div/input\")\n",
    "enter.send_keys(\"sneakers\")\n",
    "enter.send_keys(Keys.ENTER)"
   ]
  },
  {
   "cell_type": "code",
   "execution_count": 6,
   "id": "e83f62cc",
   "metadata": {},
   "outputs": [],
   "source": [
    "Brand = []\n",
    "count = 0\n",
    "for page in range(0,3):\n",
    "    count = count+1\n",
    "    count1 = 0\n",
    "    titles=driver.find_elements(By.XPATH,\"//div[@class='syl9yP']\") # first page jobtitles path\n",
    "    for i in titles:\n",
    "        Brand.append(i.text)\n",
    "        count1 = count1+1\n",
    "        if count ==3 and count1 == 20:\n",
    "            break"
   ]
  },
  {
   "cell_type": "code",
   "execution_count": 7,
   "id": "7b253acf",
   "metadata": {},
   "outputs": [],
   "source": [
    "price = []\n",
    "count = 0\n",
    "for page in range(0,3):\n",
    "    count = count+1\n",
    "    count1 = 0\n",
    "    titles=driver.find_elements(By.XPATH,\"//div[@class='_1sdMkc LFEi7Z']/div/a[2]/div[1]/div[1]\") # first page jobtitles path\n",
    "    for i in titles:\n",
    "        price.append(i.text)\n",
    "        count1 = count1+1\n",
    "        if count ==3 and count1 == 20:\n",
    "            break"
   ]
  },
  {
   "cell_type": "code",
   "execution_count": 8,
   "id": "0c4b17db",
   "metadata": {},
   "outputs": [],
   "source": [
    "Desc = []\n",
    "count = 0\n",
    "for page in range(0,3):\n",
    "    count = count+1\n",
    "    count1 = 0\n",
    "    titles=driver.find_elements(By.XPATH,\"//div[@class='_1sdMkc LFEi7Z']/div/a[1]\") # first page jobtitles path\n",
    "    for i in titles:\n",
    "        Desc.append(i.text)\n",
    "        count1 = count1+1\n",
    "        if count ==3 and count1 == 20:\n",
    "            break"
   ]
  },
  {
   "cell_type": "code",
   "execution_count": 9,
   "id": "178c0708",
   "metadata": {},
   "outputs": [
    {
     "data": {
      "text/html": [
       "<div>\n",
       "<style scoped>\n",
       "    .dataframe tbody tr th:only-of-type {\n",
       "        vertical-align: middle;\n",
       "    }\n",
       "\n",
       "    .dataframe tbody tr th {\n",
       "        vertical-align: top;\n",
       "    }\n",
       "\n",
       "    .dataframe thead th {\n",
       "        text-align: right;\n",
       "    }\n",
       "</style>\n",
       "<table border=\"1\" class=\"dataframe\">\n",
       "  <thead>\n",
       "    <tr style=\"text-align: right;\">\n",
       "      <th></th>\n",
       "      <th>Brand</th>\n",
       "      <th>Price</th>\n",
       "      <th>Description</th>\n",
       "    </tr>\n",
       "  </thead>\n",
       "  <tbody>\n",
       "    <tr>\n",
       "      <th>0</th>\n",
       "      <td>BRUTON</td>\n",
       "      <td>₹297</td>\n",
       "      <td>Modern Trendy Sneakers For Men</td>\n",
       "    </tr>\n",
       "    <tr>\n",
       "      <th>1</th>\n",
       "      <td>BRUTON</td>\n",
       "      <td>₹297</td>\n",
       "      <td>Sneaker Sneakers For Men</td>\n",
       "    </tr>\n",
       "    <tr>\n",
       "      <th>2</th>\n",
       "      <td>PUMA</td>\n",
       "      <td>₹1,047</td>\n",
       "      <td>Cliff IDP Sneakers For Men</td>\n",
       "    </tr>\n",
       "    <tr>\n",
       "      <th>3</th>\n",
       "      <td>PUMA</td>\n",
       "      <td>₹1,047</td>\n",
       "      <td>Puma knit V3 Sneakers For Men</td>\n",
       "    </tr>\n",
       "    <tr>\n",
       "      <th>4</th>\n",
       "      <td>aadi</td>\n",
       "      <td>₹299</td>\n",
       "      <td>Lightweight,Comfort,Summer,Trendy,Walking,Outd...</td>\n",
       "    </tr>\n",
       "    <tr>\n",
       "      <th>...</th>\n",
       "      <td>...</td>\n",
       "      <td>...</td>\n",
       "      <td>...</td>\n",
       "    </tr>\n",
       "    <tr>\n",
       "      <th>95</th>\n",
       "      <td>Red Tape</td>\n",
       "      <td>₹1,379</td>\n",
       "      <td>Sneaker Casual Shoes for Men | Soft Cushioned ...</td>\n",
       "    </tr>\n",
       "    <tr>\n",
       "      <th>96</th>\n",
       "      <td>Sparx</td>\n",
       "      <td>₹721</td>\n",
       "      <td>SM 734 | Stylish, Comfortable | Sneakers For Men</td>\n",
       "    </tr>\n",
       "    <tr>\n",
       "      <th>97</th>\n",
       "      <td>BRUTON</td>\n",
       "      <td>₹297</td>\n",
       "      <td>Modern Trendy Sneakers Shoes Sneakers For Men</td>\n",
       "    </tr>\n",
       "    <tr>\n",
       "      <th>98</th>\n",
       "      <td>PUMA</td>\n",
       "      <td>₹1,047</td>\n",
       "      <td>Puma Tychonic Sneakers For Men</td>\n",
       "    </tr>\n",
       "    <tr>\n",
       "      <th>99</th>\n",
       "      <td>ATOM</td>\n",
       "      <td>₹1,685</td>\n",
       "      <td>Supernova Sneakers For Men</td>\n",
       "    </tr>\n",
       "  </tbody>\n",
       "</table>\n",
       "<p>100 rows × 3 columns</p>\n",
       "</div>"
      ],
      "text/plain": [
       "       Brand   Price                                        Description\n",
       "0     BRUTON    ₹297                     Modern Trendy Sneakers For Men\n",
       "1     BRUTON    ₹297                           Sneaker Sneakers For Men\n",
       "2       PUMA  ₹1,047                         Cliff IDP Sneakers For Men\n",
       "3       PUMA  ₹1,047                      Puma knit V3 Sneakers For Men\n",
       "4       aadi    ₹299  Lightweight,Comfort,Summer,Trendy,Walking,Outd...\n",
       "..       ...     ...                                                ...\n",
       "95  Red Tape  ₹1,379  Sneaker Casual Shoes for Men | Soft Cushioned ...\n",
       "96     Sparx    ₹721   SM 734 | Stylish, Comfortable | Sneakers For Men\n",
       "97    BRUTON    ₹297      Modern Trendy Sneakers Shoes Sneakers For Men\n",
       "98      PUMA  ₹1,047                     Puma Tychonic Sneakers For Men\n",
       "99      ATOM  ₹1,685                         Supernova Sneakers For Men\n",
       "\n",
       "[100 rows x 3 columns]"
      ]
     },
     "execution_count": 9,
     "metadata": {},
     "output_type": "execute_result"
    }
   ],
   "source": [
    "Sneaker = pd.DataFrame({\"Brand\":Brand,\"Price\":price,\"Description\":Desc})\n",
    "Sneaker"
   ]
  },
  {
   "cell_type": "markdown",
   "id": "94bb6c3e",
   "metadata": {},
   "source": [
    "# Naukri"
   ]
  },
  {
   "cell_type": "markdown",
   "id": "f5d98c02",
   "metadata": {},
   "source": [
    "**Q1 Naukri  Data scientist with salary filter between 3-6 lakh and loaction filter Delhi NCR Scraping  Job loaction,Job title,\n",
    "  Experience, Company name**"
   ]
  },
  {
   "cell_type": "code",
   "execution_count": 19,
   "id": "c1a163d1",
   "metadata": {},
   "outputs": [],
   "source": [
    "driver = webdriver.Chrome(service = s)\n",
    "driver.get(\"https://www.naukri.com/\")"
   ]
  },
  {
   "cell_type": "code",
   "execution_count": 20,
   "id": "643633c6",
   "metadata": {},
   "outputs": [],
   "source": [
    "# entering data scientist\n",
    "skill = driver.find_element(By.XPATH,\"/html/body/div[1]/div[7]/div/div/div[1]/div/div/div/div[1]/div/input\")\n",
    "skill.send_keys(\"“Data Scientist\")\n",
    "driver.find_element(By.XPATH,\"/html/body/div[1]/div[7]/div/div/div[6]\").click()"
   ]
  },
  {
   "cell_type": "code",
   "execution_count": 24,
   "id": "e96d2f85",
   "metadata": {},
   "outputs": [],
   "source": [
    "# location filter\n",
    "loc = driver.find_element(By.XPATH,\"//div[@class='styles_filter-wrapper-component__4OBpS']/div[3]/div[2]/div[3]\")\n",
    "loc.click()  # here there is multiple container of, every container of filter have same base name so\n",
    "             # we are giving specific container number first\n",
    "             # inside conatiner again i am repeating relative XPath"
   ]
  },
  {
   "cell_type": "code",
   "execution_count": 26,
   "id": "36825b29",
   "metadata": {},
   "outputs": [],
   "source": [
    "SAL = driver.find_element(By.XPATH,\"//div[@class='styles_filterContainer__4aQaD'][2]/div[2]/div[2]\")\n",
    "SAL.click()"
   ]
  },
  {
   "cell_type": "code",
   "execution_count": 42,
   "id": "2932f594",
   "metadata": {},
   "outputs": [],
   "source": [
    "job_title = []\n",
    "title = driver.find_elements(By.XPATH,\"//div[@class='srp-jobtuple-wrapper']/div/div/a\")\n",
    "for i in title[0:10]:\n",
    "    job_title.append(i.text)"
   ]
  },
  {
   "cell_type": "code",
   "execution_count": 40,
   "id": "00a3a2a3",
   "metadata": {},
   "outputs": [],
   "source": [
    "job_location = []\n",
    "location = driver.find_elements(By.XPATH,\"//div[@class='srp-jobtuple-wrapper']/div/div[3]/div/span[3]/span/span\")\n",
    "for i in location[0:10]:\n",
    "    job_location.append(i.text)"
   ]
  },
  {
   "cell_type": "code",
   "execution_count": 39,
   "id": "4252c68f",
   "metadata": {},
   "outputs": [],
   "source": [
    "company_name = []\n",
    "company = driver.find_elements(By.XPATH,\"//div[@class='srp-jobtuple-wrapper']/div/div[2]/span/a[1]\")\n",
    "for i in company[0:10]:\n",
    "    company_name.append(i.text)"
   ]
  },
  {
   "cell_type": "code",
   "execution_count": 41,
   "id": "0c7320b1",
   "metadata": {},
   "outputs": [],
   "source": [
    "exp= []\n",
    "expe = driver.find_elements(By.XPATH,\"//div[@class='srp-jobtuple-wrapper']/div/div[3]/div/span[1]/span[1]/span\")\n",
    "for i in expe[0:10]:\n",
    "    exp.append(i.text)"
   ]
  },
  {
   "cell_type": "code",
   "execution_count": 43,
   "id": "c3f2c2f4",
   "metadata": {},
   "outputs": [
    {
     "data": {
      "text/html": [
       "<div>\n",
       "<style scoped>\n",
       "    .dataframe tbody tr th:only-of-type {\n",
       "        vertical-align: middle;\n",
       "    }\n",
       "\n",
       "    .dataframe tbody tr th {\n",
       "        vertical-align: top;\n",
       "    }\n",
       "\n",
       "    .dataframe thead th {\n",
       "        text-align: right;\n",
       "    }\n",
       "</style>\n",
       "<table border=\"1\" class=\"dataframe\">\n",
       "  <thead>\n",
       "    <tr style=\"text-align: right;\">\n",
       "      <th></th>\n",
       "      <th>Job_Title</th>\n",
       "      <th>Job_Location</th>\n",
       "      <th>Company_Name</th>\n",
       "      <th>Experienec</th>\n",
       "    </tr>\n",
       "  </thead>\n",
       "  <tbody>\n",
       "    <tr>\n",
       "      <th>0</th>\n",
       "      <td>Data Scientist</td>\n",
       "      <td>Delhi / NCR, Pune, Bengaluru</td>\n",
       "      <td>Wipro</td>\n",
       "      <td>6-11 Yrs</td>\n",
       "    </tr>\n",
       "    <tr>\n",
       "      <th>1</th>\n",
       "      <td>Data Scientist III</td>\n",
       "      <td>Gurugram</td>\n",
       "      <td>Flutter</td>\n",
       "      <td>2-6 Yrs</td>\n",
       "    </tr>\n",
       "    <tr>\n",
       "      <th>2</th>\n",
       "      <td>Data Scientist</td>\n",
       "      <td>New Delhi</td>\n",
       "      <td>Sociomix</td>\n",
       "      <td>0-5 Yrs</td>\n",
       "    </tr>\n",
       "    <tr>\n",
       "      <th>3</th>\n",
       "      <td>Data scientist</td>\n",
       "      <td>Gurugram</td>\n",
       "      <td>Growthjockey</td>\n",
       "      <td>0-1 Yrs</td>\n",
       "    </tr>\n",
       "    <tr>\n",
       "      <th>4</th>\n",
       "      <td>Data Scientist</td>\n",
       "      <td>Kolkata, Mumbai, New Delhi, Hyderabad, Pune, C...</td>\n",
       "      <td>Essenware</td>\n",
       "      <td>2-5 Yrs</td>\n",
       "    </tr>\n",
       "    <tr>\n",
       "      <th>5</th>\n",
       "      <td>Data Scientist (Telco)</td>\n",
       "      <td>Gurugram, Bengaluru</td>\n",
       "      <td>PayU</td>\n",
       "      <td>2-7 Yrs</td>\n",
       "    </tr>\n",
       "    <tr>\n",
       "      <th>6</th>\n",
       "      <td>Data Scientist</td>\n",
       "      <td>Gurugram</td>\n",
       "      <td>Orange Business Services</td>\n",
       "      <td>3-5 Yrs</td>\n",
       "    </tr>\n",
       "    <tr>\n",
       "      <th>7</th>\n",
       "      <td>Data Scientist</td>\n",
       "      <td>Noida</td>\n",
       "      <td>Ericsson</td>\n",
       "      <td>3-7 Yrs</td>\n",
       "    </tr>\n",
       "    <tr>\n",
       "      <th>8</th>\n",
       "      <td>Data Scientist</td>\n",
       "      <td>Noida</td>\n",
       "      <td>Times Internet</td>\n",
       "      <td>3-8 Yrs</td>\n",
       "    </tr>\n",
       "    <tr>\n",
       "      <th>9</th>\n",
       "      <td>Global GI Data Scientist</td>\n",
       "      <td>Faridabad</td>\n",
       "      <td>Hitachi Energy</td>\n",
       "      <td>3-5 Yrs</td>\n",
       "    </tr>\n",
       "  </tbody>\n",
       "</table>\n",
       "</div>"
      ],
      "text/plain": [
       "                  Job_Title  \\\n",
       "0            Data Scientist   \n",
       "1        Data Scientist III   \n",
       "2            Data Scientist   \n",
       "3            Data scientist   \n",
       "4            Data Scientist   \n",
       "5    Data Scientist (Telco)   \n",
       "6            Data Scientist   \n",
       "7            Data Scientist   \n",
       "8            Data Scientist   \n",
       "9  Global GI Data Scientist   \n",
       "\n",
       "                                        Job_Location  \\\n",
       "0                       Delhi / NCR, Pune, Bengaluru   \n",
       "1                                           Gurugram   \n",
       "2                                          New Delhi   \n",
       "3                                           Gurugram   \n",
       "4  Kolkata, Mumbai, New Delhi, Hyderabad, Pune, C...   \n",
       "5                                Gurugram, Bengaluru   \n",
       "6                                           Gurugram   \n",
       "7                                              Noida   \n",
       "8                                              Noida   \n",
       "9                                          Faridabad   \n",
       "\n",
       "               Company_Name Experienec  \n",
       "0                     Wipro   6-11 Yrs  \n",
       "1                   Flutter    2-6 Yrs  \n",
       "2                  Sociomix    0-5 Yrs  \n",
       "3              Growthjockey    0-1 Yrs  \n",
       "4                 Essenware    2-5 Yrs  \n",
       "5                      PayU    2-7 Yrs  \n",
       "6  Orange Business Services    3-5 Yrs  \n",
       "7                  Ericsson    3-7 Yrs  \n",
       "8            Times Internet    3-8 Yrs  \n",
       "9            Hitachi Energy    3-5 Yrs  "
      ]
     },
     "execution_count": 43,
     "metadata": {},
     "output_type": "execute_result"
    }
   ],
   "source": [
    "c = pd.DataFrame({\"Job_Title\":job_title,\"Job_Location\":job_location,\"Company_Name\":company_name,\"Experienec\":exp})\n",
    "c"
   ]
  },
  {
   "cell_type": "markdown",
   "id": "625dba5a",
   "metadata": {},
   "source": [
    "# Top 1000 quotes "
   ]
  },
  {
   "cell_type": "markdown",
   "id": "8c1f5132",
   "metadata": {},
   "source": [
    "**TOP 1000 quotes**"
   ]
  },
  {
   "cell_type": "code",
   "execution_count": 44,
   "id": "e14089bd",
   "metadata": {},
   "outputs": [],
   "source": [
    "driver = webdriver.Chrome(service = s)\n",
    "driver.get(\"https://www.azquotes.com/\")"
   ]
  },
  {
   "cell_type": "code",
   "execution_count": 45,
   "id": "2301e693",
   "metadata": {},
   "outputs": [],
   "source": [
    "clicks = driver.find_element(By.XPATH,\"/html/body/div[1]/div[1]/div[1]/div/div[3]/ul/li[5]/a\")\n",
    "clicks.click()"
   ]
  },
  {
   "cell_type": "code",
   "execution_count": 47,
   "id": "b2641e7e",
   "metadata": {},
   "outputs": [],
   "source": [
    "author = []\n",
    "for page in range(0,10):\n",
    "    titles=driver.find_elements(By.XPATH,\"//div[@class='author']\") # first page jobtitles path\n",
    "    for i in titles:\n",
    "        author.append(i.text)\n",
    "    next_buttom=driver.find_element(By.XPATH,\"/html/body/div[1]/div[2]/div/div/div/div[1]/div/div[4]/li[12]/a\") # click button path\n",
    "    next_buttom.click()"
   ]
  },
  {
   "cell_type": "code",
   "execution_count": 48,
   "id": "04990cd6",
   "metadata": {},
   "outputs": [],
   "source": [
    "quotes = []\n",
    "for page in range(0,10):\n",
    "    titles=driver.find_elements(By.XPATH,\"//div[@class='wrap-block']/p/a[2]\") # first page jobtitles path\n",
    "    for i in titles:\n",
    "        quotes.append(i.text)\n",
    "    next_buttom=driver.find_element(By.XPATH,\"/html/body/div[1]/div[2]/div/div/div/div[1]/div/div[4]/li[12]/a\") # click button path\n",
    "    next_buttom.click()"
   ]
  },
  {
   "cell_type": "code",
   "execution_count": 49,
   "id": "43295424",
   "metadata": {},
   "outputs": [],
   "source": [
    "type = []\n",
    "for page in range(0,10):\n",
    "    titles=driver.find_elements(By.XPATH,\"//div[@class='tags']\") # first page jobtitles path\n",
    "    for i in titles:\n",
    "        type.append(i.text)\n",
    "    next_buttom=driver.find_element(By.XPATH,\"/html/body/div[1]/div[2]/div/div/div/div[1]/div/div[4]/li[12]/a\") # click button path\n",
    "    next_buttom.click()"
   ]
  },
  {
   "cell_type": "code",
   "execution_count": 50,
   "id": "caa734dc",
   "metadata": {},
   "outputs": [
    {
     "data": {
      "text/html": [
       "<div>\n",
       "<style scoped>\n",
       "    .dataframe tbody tr th:only-of-type {\n",
       "        vertical-align: middle;\n",
       "    }\n",
       "\n",
       "    .dataframe tbody tr th {\n",
       "        vertical-align: top;\n",
       "    }\n",
       "\n",
       "    .dataframe thead th {\n",
       "        text-align: right;\n",
       "    }\n",
       "</style>\n",
       "<table border=\"1\" class=\"dataframe\">\n",
       "  <thead>\n",
       "    <tr style=\"text-align: right;\">\n",
       "      <th></th>\n",
       "      <th>Author</th>\n",
       "      <th>Type</th>\n",
       "      <th>Quotes</th>\n",
       "    </tr>\n",
       "  </thead>\n",
       "  <tbody>\n",
       "    <tr>\n",
       "      <th>0</th>\n",
       "      <td>Michael Porter</td>\n",
       "      <td>Inspirational, Life, Success</td>\n",
       "      <td>Courage is the price that life exacts for gran...</td>\n",
       "    </tr>\n",
       "    <tr>\n",
       "      <th>1</th>\n",
       "      <td>Golda Meir</td>\n",
       "      <td>Peace, War, Government</td>\n",
       "      <td>The worst evils which mankind has ever had to ...</td>\n",
       "    </tr>\n",
       "    <tr>\n",
       "      <th>2</th>\n",
       "      <td>Theodore Roosevelt</td>\n",
       "      <td>Life, Strength, Courage</td>\n",
       "      <td>The moment we begin to fear the opinions of ot...</td>\n",
       "    </tr>\n",
       "    <tr>\n",
       "      <th>3</th>\n",
       "      <td>Nelson Mandela</td>\n",
       "      <td>Positive, Family, Trust</td>\n",
       "      <td>Trust yourself, you know more than you think y...</td>\n",
       "    </tr>\n",
       "    <tr>\n",
       "      <th>4</th>\n",
       "      <td>Erma Bombeck</td>\n",
       "      <td>Inspirational, Life, Motivational</td>\n",
       "      <td>Some people want it to happen, some wish it wo...</td>\n",
       "    </tr>\n",
       "    <tr>\n",
       "      <th>...</th>\n",
       "      <td>...</td>\n",
       "      <td>...</td>\n",
       "      <td>...</td>\n",
       "    </tr>\n",
       "    <tr>\n",
       "      <th>995</th>\n",
       "      <td>Sydney J. Harris</td>\n",
       "      <td>Love, Inspirational, Motivational</td>\n",
       "      <td>Regret for the things we did can be tempered b...</td>\n",
       "    </tr>\n",
       "    <tr>\n",
       "      <th>996</th>\n",
       "      <td>Hunter S. Thompson</td>\n",
       "      <td>Gun, Two, Qualms About</td>\n",
       "      <td>America... just a nation of two hundred millio...</td>\n",
       "    </tr>\n",
       "    <tr>\n",
       "      <th>997</th>\n",
       "      <td>Jim Rohn</td>\n",
       "      <td>Inspirational, Greatness, Best Effort</td>\n",
       "      <td>For every disciplined effort there is a multip...</td>\n",
       "    </tr>\n",
       "    <tr>\n",
       "      <th>998</th>\n",
       "      <td>Ram Dass</td>\n",
       "      <td>Spiritual, Truth, Yoga</td>\n",
       "      <td>The spiritual journey is individual, highly pe...</td>\n",
       "    </tr>\n",
       "    <tr>\n",
       "      <th>999</th>\n",
       "      <td>Plutarch</td>\n",
       "      <td>Inspirational, Leadership, Education</td>\n",
       "      <td>The mind is not a vessel to be filled but a fi...</td>\n",
       "    </tr>\n",
       "  </tbody>\n",
       "</table>\n",
       "<p>1000 rows × 3 columns</p>\n",
       "</div>"
      ],
      "text/plain": [
       "                 Author                                   Type  \\\n",
       "0        Michael Porter           Inspirational, Life, Success   \n",
       "1            Golda Meir                 Peace, War, Government   \n",
       "2    Theodore Roosevelt                Life, Strength, Courage   \n",
       "3        Nelson Mandela                Positive, Family, Trust   \n",
       "4          Erma Bombeck      Inspirational, Life, Motivational   \n",
       "..                  ...                                    ...   \n",
       "995    Sydney J. Harris      Love, Inspirational, Motivational   \n",
       "996  Hunter S. Thompson                 Gun, Two, Qualms About   \n",
       "997            Jim Rohn  Inspirational, Greatness, Best Effort   \n",
       "998            Ram Dass                 Spiritual, Truth, Yoga   \n",
       "999            Plutarch   Inspirational, Leadership, Education   \n",
       "\n",
       "                                                Quotes  \n",
       "0    Courage is the price that life exacts for gran...  \n",
       "1    The worst evils which mankind has ever had to ...  \n",
       "2    The moment we begin to fear the opinions of ot...  \n",
       "3    Trust yourself, you know more than you think y...  \n",
       "4    Some people want it to happen, some wish it wo...  \n",
       "..                                                 ...  \n",
       "995  Regret for the things we did can be tempered b...  \n",
       "996  America... just a nation of two hundred millio...  \n",
       "997  For every disciplined effort there is a multip...  \n",
       "998  The spiritual journey is individual, highly pe...  \n",
       "999  The mind is not a vessel to be filled but a fi...  \n",
       "\n",
       "[1000 rows x 3 columns]"
      ]
     },
     "execution_count": 50,
     "metadata": {},
     "output_type": "execute_result"
    }
   ],
   "source": [
    "e = pd.DataFrame({\"Author\":author,\"Type\":type,\"Quotes\":quotes})\n",
    "e"
   ]
  },
  {
   "cell_type": "markdown",
   "id": "51bc9985",
   "metadata": {},
   "source": [
    "# **Shine**"
   ]
  },
  {
   "cell_type": "markdown",
   "id": "649f1d22",
   "metadata": {},
   "source": [
    "- Write a python program to scrape data for “Data Scientist” Job position in “Bangalore” location. You have to scrape the\n",
    "  job-title, job-location, company_name, experience_required. You have to scrape first 10 jobs data."
   ]
  },
  {
   "cell_type": "code",
   "execution_count": 11,
   "id": "e9649b53",
   "metadata": {},
   "outputs": [],
   "source": [
    "driver = webdriver.Chrome(service = s)\n",
    "driver.get(\"https://www.shine.com/\")"
   ]
  },
  {
   "cell_type": "code",
   "execution_count": 12,
   "id": "14eff4aa",
   "metadata": {},
   "outputs": [],
   "source": [
    "driver.find_element(By.XPATH,\"/html/body/div/header/div[3]/div/div/div[1]/div/input\").click()"
   ]
  },
  {
   "cell_type": "code",
   "execution_count": 13,
   "id": "d964d080",
   "metadata": {},
   "outputs": [],
   "source": [
    "enter1 = driver.find_element(By.XPATH,\"/html/body/div/div[4]/div/div[2]/div[2]/div/form/div/div[1]/ul/li[1]/div/input\")\n",
    "enter1.send_keys(\"Data Scientist\")\n",
    "enter2 = driver.find_element(By.XPATH,\"/html/body/div/div[4]/div/div[2]/div[2]/div/form/div/div[1]/ul/li[2]/div/input\")\n",
    "enter2.send_keys(\"Bangalore\")"
   ]
  },
  {
   "cell_type": "code",
   "execution_count": 15,
   "id": "b3208d66",
   "metadata": {},
   "outputs": [],
   "source": [
    "click1 = driver.find_element(By.XPATH,\"/html/body/div/div[4]/div/div[2]/div[2]/div/form/div/div[2]/div/button\")\n",
    "click1.click()"
   ]
  },
  {
   "cell_type": "markdown",
   "id": "3c3c8847",
   "metadata": {},
   "source": [
    "**Job title**"
   ]
  },
  {
   "cell_type": "code",
   "execution_count": 16,
   "id": "2127d22a",
   "metadata": {},
   "outputs": [],
   "source": [
    "job = []"
   ]
  },
  {
   "cell_type": "code",
   "execution_count": 18,
   "id": "6ca98e48",
   "metadata": {},
   "outputs": [],
   "source": [
    "job_title = driver.find_elements(By.XPATH,\"//strong[@class='jobCard_pReplaceH2__xWmHg']\")\n",
    "for i in job_title[0:10]:\n",
    "    job.append(i.text)"
   ]
  },
  {
   "cell_type": "markdown",
   "id": "71778738",
   "metadata": {},
   "source": [
    "**Location**"
   ]
  },
  {
   "cell_type": "code",
   "execution_count": 28,
   "id": "7cc5cc24",
   "metadata": {},
   "outputs": [],
   "source": [
    "loc = []"
   ]
  },
  {
   "cell_type": "code",
   "execution_count": 29,
   "id": "6cdaeb13",
   "metadata": {},
   "outputs": [],
   "source": [
    "location = driver.find_elements(By.XPATH,\"//div[@class='jobCard_jobCard_lists__fdnsc']/div[1]\")\n",
    "for i in location[0:10]:\n",
    "    loc.append(i.text)"
   ]
  },
  {
   "cell_type": "markdown",
   "id": "0e45201d",
   "metadata": {},
   "source": [
    "**company_name**"
   ]
  },
  {
   "cell_type": "code",
   "execution_count": 24,
   "id": "8959919d",
   "metadata": {},
   "outputs": [],
   "source": [
    "Company = []"
   ]
  },
  {
   "cell_type": "code",
   "execution_count": 25,
   "id": "e98240c5",
   "metadata": {},
   "outputs": [],
   "source": [
    "companys =driver.find_elements(By.XPATH,\"//div[@class='jobCard_jobCard_cName__mYnow']\")\n",
    "for i in companys[0:10]:\n",
    "    Company.append(i.text)"
   ]
  },
  {
   "cell_type": "markdown",
   "id": "2336488b",
   "metadata": {},
   "source": [
    "**EXperience**"
   ]
  },
  {
   "cell_type": "code",
   "execution_count": 23,
   "id": "53942273",
   "metadata": {},
   "outputs": [],
   "source": [
    "exp = []"
   ]
  },
  {
   "cell_type": "code",
   "execution_count": 26,
   "id": "81102c6f",
   "metadata": {},
   "outputs": [],
   "source": [
    "expe = driver.find_elements(By.XPATH,\"//div[@class=' jobCard_jobCard_lists_item__YxRkV jobCard_jobIcon__3FB1t']\")\n",
    "for i in expe[0:10]:\n",
    "    exp.append(i.text)"
   ]
  },
  {
   "cell_type": "code",
   "execution_count": 30,
   "id": "20615e3d",
   "metadata": {
    "scrolled": true
   },
   "outputs": [
    {
     "data": {
      "text/html": [
       "<div>\n",
       "<style scoped>\n",
       "    .dataframe tbody tr th:only-of-type {\n",
       "        vertical-align: middle;\n",
       "    }\n",
       "\n",
       "    .dataframe tbody tr th {\n",
       "        vertical-align: top;\n",
       "    }\n",
       "\n",
       "    .dataframe thead th {\n",
       "        text-align: right;\n",
       "    }\n",
       "</style>\n",
       "<table border=\"1\" class=\"dataframe\">\n",
       "  <thead>\n",
       "    <tr style=\"text-align: right;\">\n",
       "      <th></th>\n",
       "      <th>Job_Title</th>\n",
       "      <th>Location</th>\n",
       "      <th>Company_Name</th>\n",
       "      <th>Experience</th>\n",
       "    </tr>\n",
       "  </thead>\n",
       "  <tbody>\n",
       "    <tr>\n",
       "      <th>0</th>\n",
       "      <td>Data Scientist</td>\n",
       "      <td>Bangalore</td>\n",
       "      <td>comosrich it &amp; consulting services</td>\n",
       "      <td>3 to 8 Yrs</td>\n",
       "    </tr>\n",
       "    <tr>\n",
       "      <th>1</th>\n",
       "      <td>Data Scientist</td>\n",
       "      <td>Bangalore\\n+1</td>\n",
       "      <td>dotcod innovation private limited</td>\n",
       "      <td>2 to 6 Yrs</td>\n",
       "    </tr>\n",
       "    <tr>\n",
       "      <th>2</th>\n",
       "      <td>Data Scientist Recruitment</td>\n",
       "      <td>Bangalore\\n+13</td>\n",
       "      <td>kavya interprises</td>\n",
       "      <td>0 to 4 Yrs</td>\n",
       "    </tr>\n",
       "    <tr>\n",
       "      <th>3</th>\n",
       "      <td>Data Scientist</td>\n",
       "      <td>Bangalore</td>\n",
       "      <td>meraki it solutions</td>\n",
       "      <td>3 to 6 Yrs</td>\n",
       "    </tr>\n",
       "    <tr>\n",
       "      <th>4</th>\n",
       "      <td>Data Scientist</td>\n",
       "      <td>Bangalore\\n+10</td>\n",
       "      <td>vaishnavi services</td>\n",
       "      <td>18 to &gt;25 Yrs</td>\n",
       "    </tr>\n",
       "    <tr>\n",
       "      <th>5</th>\n",
       "      <td>Hiring For Data Scientist</td>\n",
       "      <td>Bangalore\\n+15</td>\n",
       "      <td>neelima staffing solution</td>\n",
       "      <td>0 to 4 Yrs</td>\n",
       "    </tr>\n",
       "    <tr>\n",
       "      <th>6</th>\n",
       "      <td>Data Scientist</td>\n",
       "      <td>Bangalore\\n+2</td>\n",
       "      <td>talent toppers llp</td>\n",
       "      <td>0 to 3 Yrs</td>\n",
       "    </tr>\n",
       "    <tr>\n",
       "      <th>7</th>\n",
       "      <td>Senior Associate Data Engineering Level 2</td>\n",
       "      <td>Bangalore\\n+7</td>\n",
       "      <td>tlg india private limited</td>\n",
       "      <td>5 to 9 Yrs</td>\n",
       "    </tr>\n",
       "    <tr>\n",
       "      <th>8</th>\n",
       "      <td>Data Analyst</td>\n",
       "      <td>Bangalore\\n+4</td>\n",
       "      <td>aryan technology</td>\n",
       "      <td>0 to 4 Yrs</td>\n",
       "    </tr>\n",
       "    <tr>\n",
       "      <th>9</th>\n",
       "      <td>Hr Data Analyst</td>\n",
       "      <td>Bangalore</td>\n",
       "      <td>leverage business solutions private...</td>\n",
       "      <td>4 to 8 Yrs</td>\n",
       "    </tr>\n",
       "  </tbody>\n",
       "</table>\n",
       "</div>"
      ],
      "text/plain": [
       "                                   Job_Title        Location  \\\n",
       "0                             Data Scientist       Bangalore   \n",
       "1                             Data Scientist   Bangalore\\n+1   \n",
       "2                 Data Scientist Recruitment  Bangalore\\n+13   \n",
       "3                             Data Scientist       Bangalore   \n",
       "4                             Data Scientist  Bangalore\\n+10   \n",
       "5                  Hiring For Data Scientist  Bangalore\\n+15   \n",
       "6                             Data Scientist   Bangalore\\n+2   \n",
       "7  Senior Associate Data Engineering Level 2   Bangalore\\n+7   \n",
       "8                               Data Analyst   Bangalore\\n+4   \n",
       "9                            Hr Data Analyst       Bangalore   \n",
       "\n",
       "                             Company_Name     Experience  \n",
       "0      comosrich it & consulting services     3 to 8 Yrs  \n",
       "1       dotcod innovation private limited     2 to 6 Yrs  \n",
       "2                       kavya interprises     0 to 4 Yrs  \n",
       "3                     meraki it solutions     3 to 6 Yrs  \n",
       "4                      vaishnavi services  18 to >25 Yrs  \n",
       "5               neelima staffing solution     0 to 4 Yrs  \n",
       "6                      talent toppers llp     0 to 3 Yrs  \n",
       "7               tlg india private limited     5 to 9 Yrs  \n",
       "8                        aryan technology     0 to 4 Yrs  \n",
       "9  leverage business solutions private...     4 to 8 Yrs  "
      ]
     },
     "execution_count": 30,
     "metadata": {},
     "output_type": "execute_result"
    }
   ],
   "source": [
    "Shine = pd.DataFrame({\"Job_Title\":job,\"Location\":loc,\"Company_Name\":Company,\"Experience\":exp})\n",
    "Shine"
   ]
  },
  {
   "cell_type": "markdown",
   "id": "331e2f7a",
   "metadata": {},
   "source": [
    "# IPHONE "
   ]
  },
  {
   "cell_type": "markdown",
   "id": "36c6ce26",
   "metadata": {},
   "source": [
    "As shown in the above page you have to scrape the tick marked attributes. These are:\n",
    "1. Rating\n",
    "2. Review summary\n",
    "3. Full review\n",
    "4. You have to scrape this data for first 100reviews.\n"
   ]
  },
  {
   "cell_type": "code",
   "execution_count": 1,
   "id": "fe04a958",
   "metadata": {},
   "outputs": [],
   "source": [
    "import selenium\n",
    "from selenium import webdriver\n",
    "from selenium.webdriver.chrome.service import Service\n",
    "from selenium.webdriver.common.by import By\n",
    "from selenium.webdriver.common.keys import Keys\n",
    "import pandas as pd"
   ]
  },
  {
   "cell_type": "code",
   "execution_count": 2,
   "id": "123066f7",
   "metadata": {},
   "outputs": [],
   "source": [
    "s = Service(\"D:/New folder/chromedriver-win64/chromedriver-win64/chromedriver.exe\")"
   ]
  },
  {
   "cell_type": "code",
   "execution_count": 3,
   "id": "a6bcd99a",
   "metadata": {},
   "outputs": [],
   "source": [
    "driver = webdriver.Chrome(service = s)\n",
    "driver.get(\"https://www.flipkart.com/apple-iphone-11-black-64-gb/product-reviews/itm4e5041ba101fd?pid=MOBFWQ6BXGJCEYNY&lid=LSTMOBFWQ6BXGJCEYNYZXSHRJ&marketplace=FLIPKART\")"
   ]
  },
  {
   "cell_type": "code",
   "execution_count": 4,
   "id": "39f9a21e",
   "metadata": {},
   "outputs": [],
   "source": [
    "Title = []\n",
    "count = 0\n",
    "for page in range(0,10):\n",
    "    count = count+1\n",
    "    count1 = 0\n",
    "    titles=driver.find_elements(By.XPATH,\"//p[@class='z9E0IG']\") # first page jobtitles path\n",
    "    for i in titles:\n",
    "        Title.append(i.text)\n",
    "        count1 = count1+1\n",
    "        if count ==11 and count1 == 0:\n",
    "            break"
   ]
  },
  {
   "cell_type": "code",
   "execution_count": 5,
   "id": "acc158dd",
   "metadata": {},
   "outputs": [],
   "source": [
    "Summary = []\n",
    "count = 0\n",
    "for page in range(0,10):\n",
    "    count = count+1\n",
    "    count1 = 0\n",
    "    titles=driver.find_elements(By.XPATH,\"//div[@class='ZmyHeo']\") # first page jobtitles path\n",
    "    for i in titles:\n",
    "        Summary.append(i.text)\n",
    "        count1 = count1+1\n",
    "        if count ==11 and count1 == 0:\n",
    "            break"
   ]
  },
  {
   "cell_type": "code",
   "execution_count": 6,
   "id": "36745609",
   "metadata": {},
   "outputs": [],
   "source": [
    "rate = []           \n",
    "\n",
    "count = 0\n",
    "for page in range(0,10):\n",
    "    count = count+1  #//div[@class='XQDdHH Ga3i8K']\n",
    "    count1 = 0\n",
    "    titles=driver.find_elements(By.XPATH,\"//div[@class='EKFha-']/div/div/div[1]/div[1]\") # first page jobtitles path\n",
    "    for i in titles:\n",
    "        rate.append(i.text)\n",
    "        count1 = count1+1\n",
    "        if count ==11 and count1 == 0:\n",
    "            break"
   ]
  },
  {
   "cell_type": "code",
   "execution_count": 9,
   "id": "c4a5936e",
   "metadata": {},
   "outputs": [
    {
     "data": {
      "text/html": [
       "<div>\n",
       "<style scoped>\n",
       "    .dataframe tbody tr th:only-of-type {\n",
       "        vertical-align: middle;\n",
       "    }\n",
       "\n",
       "    .dataframe tbody tr th {\n",
       "        vertical-align: top;\n",
       "    }\n",
       "\n",
       "    .dataframe thead th {\n",
       "        text-align: right;\n",
       "    }\n",
       "</style>\n",
       "<table border=\"1\" class=\"dataframe\">\n",
       "  <thead>\n",
       "    <tr style=\"text-align: right;\">\n",
       "      <th></th>\n",
       "      <th>Review_Summary</th>\n",
       "      <th>Rating</th>\n",
       "      <th>Full_Review</th>\n",
       "    </tr>\n",
       "  </thead>\n",
       "  <tbody>\n",
       "    <tr>\n",
       "      <th>0</th>\n",
       "      <td>Worth every penny</td>\n",
       "      <td>5</td>\n",
       "      <td>Feeling awesome after getting the delivery of ...</td>\n",
       "    </tr>\n",
       "    <tr>\n",
       "      <th>1</th>\n",
       "      <td>Best in the market!</td>\n",
       "      <td>5</td>\n",
       "      <td>Good Camera</td>\n",
       "    </tr>\n",
       "    <tr>\n",
       "      <th>2</th>\n",
       "      <td>Terrific</td>\n",
       "      <td>5</td>\n",
       "      <td>Very very good</td>\n",
       "    </tr>\n",
       "    <tr>\n",
       "      <th>3</th>\n",
       "      <td>Wonderful</td>\n",
       "      <td>5</td>\n",
       "      <td>This is amazing at all</td>\n",
       "    </tr>\n",
       "    <tr>\n",
       "      <th>4</th>\n",
       "      <td>Just wow!</td>\n",
       "      <td>5</td>\n",
       "      <td>Perfect Product!!</td>\n",
       "    </tr>\n",
       "    <tr>\n",
       "      <th>...</th>\n",
       "      <td>...</td>\n",
       "      <td>...</td>\n",
       "      <td>...</td>\n",
       "    </tr>\n",
       "    <tr>\n",
       "      <th>95</th>\n",
       "      <td>Perfect product!</td>\n",
       "      <td>5</td>\n",
       "      <td>Photos super</td>\n",
       "    </tr>\n",
       "    <tr>\n",
       "      <th>96</th>\n",
       "      <td>Classy product</td>\n",
       "      <td>5</td>\n",
       "      <td>Camera is awesome\\nBest battery backup\\nA perf...</td>\n",
       "    </tr>\n",
       "    <tr>\n",
       "      <th>97</th>\n",
       "      <td>Must buy!</td>\n",
       "      <td>5</td>\n",
       "      <td>It’s really awesome</td>\n",
       "    </tr>\n",
       "    <tr>\n",
       "      <th>98</th>\n",
       "      <td>Fabulous!</td>\n",
       "      <td>5</td>\n",
       "      <td>It’s very good battery life and display and vi...</td>\n",
       "    </tr>\n",
       "    <tr>\n",
       "      <th>99</th>\n",
       "      <td>Terrific purchase</td>\n",
       "      <td>5</td>\n",
       "      <td>Value for money 😍</td>\n",
       "    </tr>\n",
       "  </tbody>\n",
       "</table>\n",
       "<p>100 rows × 3 columns</p>\n",
       "</div>"
      ],
      "text/plain": [
       "         Review_Summary Rating  \\\n",
       "0     Worth every penny      5   \n",
       "1   Best in the market!      5   \n",
       "2              Terrific      5   \n",
       "3             Wonderful      5   \n",
       "4             Just wow!      5   \n",
       "..                  ...    ...   \n",
       "95     Perfect product!      5   \n",
       "96       Classy product      5   \n",
       "97            Must buy!      5   \n",
       "98            Fabulous!      5   \n",
       "99    Terrific purchase      5   \n",
       "\n",
       "                                          Full_Review  \n",
       "0   Feeling awesome after getting the delivery of ...  \n",
       "1                                         Good Camera  \n",
       "2                                      Very very good  \n",
       "3                              This is amazing at all  \n",
       "4                                   Perfect Product!!  \n",
       "..                                                ...  \n",
       "95                                       Photos super  \n",
       "96  Camera is awesome\\nBest battery backup\\nA perf...  \n",
       "97                                It’s really awesome  \n",
       "98  It’s very good battery life and display and vi...  \n",
       "99                                  Value for money 😍  \n",
       "\n",
       "[100 rows x 3 columns]"
      ]
     },
     "execution_count": 9,
     "metadata": {},
     "output_type": "execute_result"
    }
   ],
   "source": [
    "IPhone = pd.DataFrame({\"Review_Summary\":Title,\"Rating\":rate,\"Full_Review\":Summary})\n",
    "IPhone"
   ]
  },
  {
   "cell_type": "markdown",
   "id": "cb8cafb5",
   "metadata": {},
   "source": [
    "# Amazon  laptop"
   ]
  },
  {
   "cell_type": "code",
   "execution_count": 3,
   "id": "ee2336c1",
   "metadata": {},
   "outputs": [],
   "source": [
    "driver = webdriver.Chrome(service = s)\n",
    "driver.get(\"https://www.amazon.in/\")"
   ]
  },
  {
   "cell_type": "code",
   "execution_count": 12,
   "id": "5a98ed2a",
   "metadata": {},
   "outputs": [],
   "source": [
    "search = driver.find_element(By.XPATH,\"/html/body/div[1]/header/div/div[1]/div[2]/div/form/div[2]/div[1]/input\")\n",
    "search.send_keys(\"Laptop\")\n",
    "search.send_keys(Keys.ENTER)"
   ]
  },
  {
   "cell_type": "code",
   "execution_count": 13,
   "id": "82f24bab",
   "metadata": {},
   "outputs": [],
   "source": [
    "clicks = driver.find_element(By.XPATH,\"/html/body/div[1]/header/div/div[1]/div[2]/div/form/div[3]/div/span/input\")\n",
    "clicks.click()"
   ]
  },
  {
   "cell_type": "code",
   "execution_count": 14,
   "id": "2e39ca5d",
   "metadata": {},
   "outputs": [],
   "source": [
    "filters = driver.find_element(By.XPATH,\"/html/body/div[1]/div[1]/div[1]/div[2]/div/div[3]/span/div[1]/div/div/div[6]/ul[2]/span/span[10]/li/span/a/span\")\n",
    "filters.click()"
   ]
  },
  {
   "cell_type": "code",
   "execution_count": 16,
   "id": "238511a7",
   "metadata": {},
   "outputs": [],
   "source": [
    "title = []\n",
    "title_name = driver.find_elements(By.XPATH,\"//span[@class='a-size-medium a-color-base a-text-normal']\")\n",
    "for i in title_name[0:10]:\n",
    "    title.append(i.text)"
   ]
  },
  {
   "cell_type": "code",
   "execution_count": 15,
   "id": "8da4ceaf",
   "metadata": {},
   "outputs": [],
   "source": [
    "price = []\n",
    "prices = driver.find_elements(By.XPATH,\"//div[@class='a-row a-size-base a-color-base']/div[1]/a/span/span[2]/span[2]\")\n",
    "for i in prices[0:10]:\n",
    "    price.append(i.text)"
   ]
  },
  {
   "cell_type": "code",
   "execution_count": null,
   "id": "728584b4",
   "metadata": {},
   "outputs": [],
   "source": [
    "# Having problem in scraping rating column"
   ]
  },
  {
   "cell_type": "code",
   "execution_count": 17,
   "id": "430cae23",
   "metadata": {},
   "outputs": [
    {
     "data": {
      "text/html": [
       "<div>\n",
       "<style scoped>\n",
       "    .dataframe tbody tr th:only-of-type {\n",
       "        vertical-align: middle;\n",
       "    }\n",
       "\n",
       "    .dataframe tbody tr th {\n",
       "        vertical-align: top;\n",
       "    }\n",
       "\n",
       "    .dataframe thead th {\n",
       "        text-align: right;\n",
       "    }\n",
       "</style>\n",
       "<table border=\"1\" class=\"dataframe\">\n",
       "  <thead>\n",
       "    <tr style=\"text-align: right;\">\n",
       "      <th></th>\n",
       "      <th>Title</th>\n",
       "      <th>Price</th>\n",
       "    </tr>\n",
       "  </thead>\n",
       "  <tbody>\n",
       "    <tr>\n",
       "      <th>0</th>\n",
       "      <td>MSI Modern 14, Intel 12th Gen. i7-1255U, 36CM ...</td>\n",
       "      <td>47,990</td>\n",
       "    </tr>\n",
       "    <tr>\n",
       "      <th>1</th>\n",
       "      <td>HP Laptop 15s, 12th Gen Intel Core i7-1255U, 1...</td>\n",
       "      <td>65,490</td>\n",
       "    </tr>\n",
       "    <tr>\n",
       "      <th>2</th>\n",
       "      <td>Lenovo IdeaPad 3 Intel Core i7 12th Gen 1255U ...</td>\n",
       "      <td>62,009</td>\n",
       "    </tr>\n",
       "    <tr>\n",
       "      <th>3</th>\n",
       "      <td>ASUS Vivobook 15, Intel Core i7-12650H 12th Ge...</td>\n",
       "      <td>64,990</td>\n",
       "    </tr>\n",
       "    <tr>\n",
       "      <th>4</th>\n",
       "      <td>Lenovo IdeaPad Slim 5 Intel Core i7 13700H 16\"...</td>\n",
       "      <td>84,190</td>\n",
       "    </tr>\n",
       "    <tr>\n",
       "      <th>5</th>\n",
       "      <td>HP Pavilion 14 12th Gen Intel Core i7 16GB SDR...</td>\n",
       "      <td>78,850</td>\n",
       "    </tr>\n",
       "    <tr>\n",
       "      <th>6</th>\n",
       "      <td>Dell [Smartchoice Inspiron 5430 Thin &amp; Light L...</td>\n",
       "      <td>80,490</td>\n",
       "    </tr>\n",
       "    <tr>\n",
       "      <th>7</th>\n",
       "      <td>HP Pavilion 14, 11th Gen Intel Core i7-1195G7,...</td>\n",
       "      <td>66,990</td>\n",
       "    </tr>\n",
       "    <tr>\n",
       "      <th>8</th>\n",
       "      <td>Dell Latitude 7480 14in FHD Laptop PC - Intel ...</td>\n",
       "      <td>69,990</td>\n",
       "    </tr>\n",
       "    <tr>\n",
       "      <th>9</th>\n",
       "      <td>Dell Inspiron 3530 Laptop, 13th Generation Int...</td>\n",
       "      <td>83,990</td>\n",
       "    </tr>\n",
       "  </tbody>\n",
       "</table>\n",
       "</div>"
      ],
      "text/plain": [
       "                                               Title   Price\n",
       "0  MSI Modern 14, Intel 12th Gen. i7-1255U, 36CM ...  47,990\n",
       "1  HP Laptop 15s, 12th Gen Intel Core i7-1255U, 1...  65,490\n",
       "2  Lenovo IdeaPad 3 Intel Core i7 12th Gen 1255U ...  62,009\n",
       "3  ASUS Vivobook 15, Intel Core i7-12650H 12th Ge...  64,990\n",
       "4  Lenovo IdeaPad Slim 5 Intel Core i7 13700H 16\"...  84,190\n",
       "5  HP Pavilion 14 12th Gen Intel Core i7 16GB SDR...  78,850\n",
       "6  Dell [Smartchoice Inspiron 5430 Thin & Light L...  80,490\n",
       "7  HP Pavilion 14, 11th Gen Intel Core i7-1195G7,...  66,990\n",
       "8  Dell Latitude 7480 14in FHD Laptop PC - Intel ...  69,990\n",
       "9  Dell Inspiron 3530 Laptop, 13th Generation Int...  83,990"
      ]
     },
     "execution_count": 17,
     "metadata": {},
     "output_type": "execute_result"
    }
   ],
   "source": [
    "Amazon = pd.DataFrame({\"Title\":title,\"Price\":price})\n",
    "Amazon"
   ]
  },
  {
   "cell_type": "code",
   "execution_count": 18,
   "id": "284fba1d",
   "metadata": {},
   "outputs": [],
   "source": [
    "rate = [] # NOt anle to scrap\n",
    "rate1 = driver.find_elements(By.XPATH,\"//a[@class='a-popover-trigger a-declarative']/i[1]/span\")\n",
    "for i in rate1[0:10]:\n",
    "    rate.append(i.text)"
   ]
  },
  {
   "cell_type": "code",
   "execution_count": 20,
   "id": "fa126237",
   "metadata": {},
   "outputs": [
    {
     "data": {
      "text/html": [
       "<div>\n",
       "<style scoped>\n",
       "    .dataframe tbody tr th:only-of-type {\n",
       "        vertical-align: middle;\n",
       "    }\n",
       "\n",
       "    .dataframe tbody tr th {\n",
       "        vertical-align: top;\n",
       "    }\n",
       "\n",
       "    .dataframe thead th {\n",
       "        text-align: right;\n",
       "    }\n",
       "</style>\n",
       "<table border=\"1\" class=\"dataframe\">\n",
       "  <thead>\n",
       "    <tr style=\"text-align: right;\">\n",
       "      <th></th>\n",
       "      <th>Rate</th>\n",
       "    </tr>\n",
       "  </thead>\n",
       "  <tbody>\n",
       "    <tr>\n",
       "      <th>0</th>\n",
       "      <td></td>\n",
       "    </tr>\n",
       "    <tr>\n",
       "      <th>1</th>\n",
       "      <td></td>\n",
       "    </tr>\n",
       "    <tr>\n",
       "      <th>2</th>\n",
       "      <td></td>\n",
       "    </tr>\n",
       "    <tr>\n",
       "      <th>3</th>\n",
       "      <td></td>\n",
       "    </tr>\n",
       "    <tr>\n",
       "      <th>4</th>\n",
       "      <td></td>\n",
       "    </tr>\n",
       "    <tr>\n",
       "      <th>5</th>\n",
       "      <td></td>\n",
       "    </tr>\n",
       "    <tr>\n",
       "      <th>6</th>\n",
       "      <td></td>\n",
       "    </tr>\n",
       "    <tr>\n",
       "      <th>7</th>\n",
       "      <td></td>\n",
       "    </tr>\n",
       "    <tr>\n",
       "      <th>8</th>\n",
       "      <td></td>\n",
       "    </tr>\n",
       "    <tr>\n",
       "      <th>9</th>\n",
       "      <td></td>\n",
       "    </tr>\n",
       "  </tbody>\n",
       "</table>\n",
       "</div>"
      ],
      "text/plain": [
       "  Rate\n",
       "0     \n",
       "1     \n",
       "2     \n",
       "3     \n",
       "4     \n",
       "5     \n",
       "6     \n",
       "7     \n",
       "8     \n",
       "9     "
      ]
     },
     "execution_count": 20,
     "metadata": {},
     "output_type": "execute_result"
    }
   ],
   "source": [
    "c = pd.DataFrame({\"Rate\":rate})\n",
    "c"
   ]
  }
 ],
 "metadata": {
  "kernelspec": {
   "display_name": "Python 3 (ipykernel)",
   "language": "python",
   "name": "python3"
  },
  "language_info": {
   "codemirror_mode": {
    "name": "ipython",
    "version": 3
   },
   "file_extension": ".py",
   "mimetype": "text/x-python",
   "name": "python",
   "nbconvert_exporter": "python",
   "pygments_lexer": "ipython3",
   "version": "3.9.13"
  }
 },
 "nbformat": 4,
 "nbformat_minor": 5
}
