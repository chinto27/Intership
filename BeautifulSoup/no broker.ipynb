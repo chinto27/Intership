{
 "cells": [
  {
   "cell_type": "code",
   "execution_count": 2,
   "id": "2586f799",
   "metadata": {},
   "outputs": [],
   "source": [
    "from bs4 import BeautifulSoup\n",
    "import requests"
   ]
  },
  {
   "cell_type": "code",
   "execution_count": null,
   "id": "45b4fa70",
   "metadata": {},
   "outputs": [],
   "source": []
  },
  {
   "cell_type": "code",
   "execution_count": 5,
   "id": "ff740e14",
   "metadata": {},
   "outputs": [],
   "source": [
    "url = \"https://www.nobroker.in/property/rent/bangalore/multiple?searchParam=W3sibGF0IjoxMi45MzA3NzM1LCJsb24iOjc3LjU4MzgzMDIsInBsYWNlSWQiOiJDaElKMmRkbFo1Z1ZyanNSaDFCT0FhZi1vcnMiLCJwbGFjZU5hbWUiOiJKYXlhbmFnYXIifSx7ImxhdCI6MTIuOTc5Nzk0NywibG9uIjo3Ny41NDgzMjgyLCJwbGFjZUlkIjoiQ2hJSndTclNZLWs5cmpzUlhEcnJDUDYxVEhFIiwicGxhY2VOYW1lIjoiUmFqYWppIE5hZ2FyIEluZHVzdHJpYWwgVG93biJ9LHsibGF0IjoxMi44Mzg1NTA5LCJsb24iOjc3LjY2MDk3MTY5OTk5OTk5LCJwbGFjZUlkIjoiQ2hJSmt4aC0tWVpzcmpzUkwxY3VGNkVWbWNzIiwicGxhY2VOYW1lIjoiSW5kcmEgTmFnYXIifV0=&radius=2.0&sharedAccomodation=0&city=bangalore&locality=Jayanagar,Rajaji%20Nagar%20Industrial%20Town,Indra%20Nagar\""
   ]
  },
  {
   "cell_type": "code",
   "execution_count": 7,
   "id": "0d9cc341",
   "metadata": {},
   "outputs": [
    {
     "data": {
      "text/plain": [
       "<Response [200]>"
      ]
     },
     "execution_count": 7,
     "metadata": {},
     "output_type": "execute_result"
    }
   ],
   "source": [
    "request = requests.get(url)\n",
    "request"
   ]
  },
  {
   "cell_type": "code",
   "execution_count": null,
   "id": "4fe19f94",
   "metadata": {},
   "outputs": [],
   "source": [
    "soup = BeautifulSoup(request.text,\"lxml\")\n",
    "soup"
   ]
  },
  {
   "cell_type": "code",
   "execution_count": 9,
   "id": "1f8c5a4c",
   "metadata": {},
   "outputs": [
    {
     "data": {
      "text/plain": [
       "<h2 class=\"heading-6 flex items-center font-semi-bold m-0\"><a class=\"overflow-hidden overflow-ellipsis whitespace-nowrap max-w-80pe po:max-w-full\" href=\"/property/2-bhk-apartment-for-rent-in-jayanagar-bangalore-for-rs-35000/8a9f97827c2bf536017c2c313b652433/detail\" target=\"_blank\">2 BHK Apartment In Shanthi Park Apartments for Rent  In Jayanagar</a><svg class=\"po:hidden\" color=\"#444\" style=\"width:24px;height:24px;margin:2px\" viewbox=\"0 0 24 24\"><path class=\"transform scale-65 text-gray-100 origin-cards\" d=\"M18,10.82a1,1,0,0,0-1,1V19a1,1,0,0,1-1,1H5a1,1,0,0,1-1-1V8A1,1,0,0,1,5,7h7.18a1,1,0,0,0,0-2H5A3,3,0,0,0,2,8V19a3,3,0,0,0,3,3H16a3,3,0,0,0,3-3V11.82A1,1,0,0,0,18,10.82Zm3.92-8.2a1,1,0,0,0-.54-.54A1,1,0,0,0,21,2H15a1,1,0,0,0,0,2h3.59L8.29,14.29a1,1,0,0,0,0,1.42,1,1,0,0,0,1.42,0L20,5.41V9a1,1,0,0,0,2,0V3A1,1,0,0,0,21.92,2.62Z\" fill=\"#444\"></path></svg></h2>"
      ]
     },
     "execution_count": 9,
     "metadata": {},
     "output_type": "execute_result"
    }
   ],
   "source": [
    "house = soup.find(\"h2\",class_=\"heading-6 flex items-center font-semi-bold m-0\")\n",
    "house"
   ]
  },
  {
   "cell_type": "code",
   "execution_count": 10,
   "id": "41cc5985",
   "metadata": {},
   "outputs": [
    {
     "data": {
      "text/plain": [
       "'2 BHK Apartment In Shanthi Park Apartments for Rent  In Jayanagar'"
      ]
     },
     "execution_count": 10,
     "metadata": {},
     "output_type": "execute_result"
    }
   ],
   "source": [
    "house.text"
   ]
  },
  {
   "cell_type": "code",
   "execution_count": null,
   "id": "b9e8f5f2",
   "metadata": {},
   "outputs": [],
   "source": [
    "house2 = soup.find_all(\"h2\",class_=\"heading-6 flex items-center font-semi-bold m-0\")\n",
    "house2"
   ]
  },
  {
   "cell_type": "code",
   "execution_count": 13,
   "id": "288324f5",
   "metadata": {},
   "outputs": [
    {
     "name": "stdout",
     "output_type": "stream",
     "text": [
      "2 BHK Apartment In Shanthi Park Apartments for Rent  In Jayanagar\n",
      "2 BHK House for Rent  In Cool Joint\n",
      "2 BHK House for Rent  In Basavanagudi, \n",
      "3 BHK Flat In Arifa Shaukhath for Rent  In  Jayanagar\n",
      "3 BHK Apartment In Ushas Apartments for Rent  In Wing-b Block-4, Ushas Apartment, 4th T Block East, Jayanagar 3rd Block East, Jayanagar, Bengaluru, Karnataka 560011, India\n",
      "2 BHK Flat for Rent  In Jayanagar\n",
      "2 BHK Flat In Shruti  for Rent  In Jayanagar\n",
      "1 BHK Apartment In Godrej Nurture Electronic City Phase 1 for Rent  In Godrej Nurture\n",
      "1 BHK Flat for Rent  In Jayanagar \n",
      "2 BHK Flat In Sri Lakshmi Venkateshawra Bhavana for Rent  In Basavanagudi\n",
      "1 BHK House for Rent  In Jayanagar 3rd Block East, Jayanagar\n",
      "2 BHK House for Rent  In Jayanagar\n",
      "2 BHK House for Rent  In Jayanagar\n",
      "1 BHK House for Rent  In Jaya Nagar\n",
      "3 BHK House for Rent  In Jayanagar\n",
      "1 RK House for Rent  In Jayanagara 7th Block\n",
      "2 BHK Flat for Rent  In Tata Silk Farm\n",
      "2 BHK Flat In Standalone  Building  for Lease  In Jayanagar\n",
      "2 BHK Flat In R K Palace Apartment for Rent  In Jayanagar\n",
      "1 RK Flat In Poornabodha Nilaya for Rent  In Jayanagar 9th Block 25 Main 14 Cors Bangalore\n",
      "1 RK House for Rent  In Jayanagar\n",
      "3 BHK Apartment In Godrej Nurture Electronic City for Rent  In Electronic City Phase I\n",
      "2 BHK House for Rent  In Jayanagar 1st Block\n",
      "2 BHK Flat for Rent  In Jayanagar\n",
      "3 BHK House for Rent  In Jp Nagar\n",
      "2 BHK Apartment In Shanthi Park Apartments for Rent  In Jayanagar\n"
     ]
    }
   ],
   "source": [
    "for i in house2: # for iteration and getting text\n",
    "    print(i.text)"
   ]
  },
  {
   "cell_type": "code",
   "execution_count": 24,
   "id": "34744c37",
   "metadata": {},
   "outputs": [
    {
     "data": {
      "text/plain": [
       "<div class=\"mt-0.5p overflow-hidden overflow-ellipsis whitespace-nowrap max-w-70 text-gray-light leading-4 po:mb-0.1p po:max-w-95\"><a class=\"text-gray-light float-left mr-0 capitalize border-b border-dashed no-underline\" href=\"/shanthi-park-apartments-jayanagar_bangalore-prjt-5ba009ad714b5681057623e2\" target=\"_blank\">Shanthi Park Apartments</a>Â  <!-- -->Shanthi Park Apartments, Marenahalli Rd, Kottapalya, 2nd Phase, Jayanagar, Bengaluru, Karnataka 560041</div>"
      ]
     },
     "execution_count": 24,
     "metadata": {},
     "output_type": "execute_result"
    }
   ],
   "source": [
    "location = soup.find(\"div\",class_=\"mt-0.5p overflow-hidden overflow-ellipsis whitespace-\\\n",
    "nowrap max-w-70 text-gray-light leading-4 po:mb-0.1p po:max-w-95\")\n",
    "location"
   ]
  },
  {
   "cell_type": "code",
   "execution_count": 25,
   "id": "b8ea9d52",
   "metadata": {},
   "outputs": [
    {
     "data": {
      "text/plain": [
       "'Shanthi Park ApartmentsÂ\\xa0 Shanthi Park Apartments, Marenahalli Rd, Kottapalya, 2nd Phase, Jayanagar, Bengaluru, Karnataka 560041'"
      ]
     },
     "execution_count": 25,
     "metadata": {},
     "output_type": "execute_result"
    }
   ],
   "source": [
    "location.text"
   ]
  },
  {
   "cell_type": "code",
   "execution_count": 30,
   "id": "6f4c5b9d",
   "metadata": {},
   "outputs": [],
   "source": [
    "location = soup.find_all(\"div\",class_=\"mt-0.5p overflow-hidden overflow-ellipsis whitespace-\\\n",
    "nowrap max-w-70 text-gray-light leading-4 po:mb-0.1p po:max-w-95\")"
   ]
  },
  {
   "cell_type": "code",
   "execution_count": 31,
   "id": "f26ae889",
   "metadata": {},
   "outputs": [
    {
     "name": "stdout",
     "output_type": "stream",
     "text": [
      "Shanthi Park ApartmentsÂ  Shanthi Park Apartments, Marenahalli Rd, Kottapalya, 2nd Phase, Jayanagar, Bengaluru, Karnataka 560041\n",
      "Independent House, cool joint, near complex, near to 1000 circle , near to hnimas hospital\n",
      "Independent House, 6th B Main Rd, near Sri Kumaran Children's Home - State Board, Tata Silk Farm \n",
      "RBI Extension, near medicure hospital\n",
      "Ushas ApartmentsÂ  jayanagar 4th block\n",
      "standalone building, 4th T Block East, near Cakewala 4th T Block, \n",
      "9th Main Rd, 4th Block, Near BSNL Telephone Exchange\n",
      "Godrej Nurture Electronic City Phase 1Â  electronic city phase 1\n",
      "Standalone Building, 9th Block 38th B Cross Rd 26th Main Rd, Near Karnataka Bank\n",
      "Tata Silk Farm,Near Sri Kumaran Children's Home\n",
      "Independent House, 14/5,1st cross GH layout,3rd blockeastjayanagar.down to PM swimmingpool\n",
      "Independent House, Near Garuda Swagath Inox / D- Mart\n",
      "Independent House, 11 cross 8 main\n",
      "Independent House, 9th Block, Near GNR Kalyana Mantapa\n",
      "Independent House, Near Kalyani Sri Ganapathy temple, Lalbagh South Gate, 1st block, 3, Ashoka Pillar Rd, 1st Block, Siddapura\n",
      "Independent House, Near Deepak Nursing Home, Kanakapura Road, 7th Block, Jayanagar\n",
      "standalone building, 9th main , near Athmashree Educational Association\n",
      "Kittur Rani chennamma sports complex\n",
      "Jaya Nagar 1st Block, Someshwara Nagar, , \n",
      "near manipal hospital\n",
      "Independent House, Bannerughatta Approach Road Layout, near  Carmel Convent School\n",
      "Godrej Nurture Electronic CityÂ  Electronic City, Bangalore\n",
      "Independent House, 8th Mail Road, Near NIMHANS\n",
      "standalone building, 4th T Block East, Tilak Nagar, near  Sagar Hospital,\n",
      "Independent House,  Behind Reliance Smart BAZAAR\n",
      "Shanthi Park ApartmentsÂ  Shanthi Park Apartments, Marenahalli Rd, Kottapalya, 2nd Phase, Jayanagar, Bengaluru, Karnataka 560041\n"
     ]
    }
   ],
   "source": [
    "for i in location: # for iteration and getting text\n",
    "    print(i.text)"
   ]
  },
  {
   "cell_type": "code",
   "execution_count": 32,
   "id": "78cdd6f4",
   "metadata": {},
   "outputs": [
    {
     "data": {
      "text/plain": [
       "<div class=\"flex\" id=\"minimumRent\">â¹ 35,000<!-- --> +<div class=\"group relative flex m-0\"><div><div class=\"bg-grayDark text-white text-center rounded-md py-0.2p px-0.6p absolute left-1/2 -ml-6p opacity-0 transform transition-opacity duration-300 after:absolute after:top-full after:left-1/2 after:-ml-0.5p after:border-0.5p after:border-solid after:border-grayDark group-hover:inline-block group-hover:opacity-100 text-12\" style=\"width:108px;bottom:125%;z-index:5\"><div class=\"flex flex-col\"><span>â¹ <!-- -->2,500</span><span>Maintenance</span></div></div><div class=\"block w-1.5p mt-0.3p h-1.5p ml-0.4p\" style=\"background-image:url(https://assets.nobroker.in/nb-new/public/List-Page/list_page_sprite_min.png);background-position:99px 475px;background-size:170px\"></div></div></div></div>"
      ]
     },
     "execution_count": 32,
     "metadata": {},
     "output_type": "execute_result"
    }
   ],
   "source": [
    "emi = soup.find(\"div\",{\"id\":\"minimumRent\"})\n",
    "emi"
   ]
  },
  {
   "cell_type": "code",
   "execution_count": 35,
   "id": "bd826ba9",
   "metadata": {},
   "outputs": [
    {
     "data": {
      "text/plain": [
       "'â\\x82¹ 35,000 +â\\x82¹ 2,500Maintenance'"
      ]
     },
     "execution_count": 35,
     "metadata": {},
     "output_type": "execute_result"
    }
   ],
   "source": [
    "emi.text"
   ]
  },
  {
   "cell_type": "code",
   "execution_count": 36,
   "id": "28847fc5",
   "metadata": {},
   "outputs": [
    {
     "name": "stdout",
     "output_type": "stream",
     "text": [
      "â¹ 35,000 +â¹ 2,500Maintenance\n",
      "â¹ 25,000No Extra Maintenance\n",
      "â¹ 15,000 +â¹ 1Maintenance\n",
      "â¹ 26,000 +â¹ 2,500Maintenance\n",
      "â¹ 55,000 +â¹ 3,300Maintenance\n",
      "â¹ 20,000No Extra Maintenance\n",
      "â¹ 40,000 +â¹ 1,000Maintenance\n",
      "â¹ 27,000 +â¹ 2,500Maintenance\n",
      "â¹ 12,000No Extra Maintenance\n",
      "â¹ 17,000No Extra Maintenance\n",
      "â¹ 12,000No Extra Maintenance\n",
      "â¹ 11,500No Extra Maintenance\n",
      "â¹ 35,000No Extra Maintenance\n",
      "â¹ 16,000No Extra Maintenance\n",
      "â¹ 28,000No Extra Maintenance\n",
      "â¹ 10,000No Extra Maintenance\n",
      "â¹ 18,000No Extra Maintenance\n",
      "Only DepositNo Extra Maintenance\n",
      "â¹ 13,000 +â¹ 1,000Maintenance\n",
      "â¹ 7,000No Extra Maintenance\n",
      "â¹ 15,000No Extra Maintenance\n",
      "â¹ 45,000 +â¹ 6,000Maintenance\n",
      "â¹ 28,500No Extra Maintenance\n",
      "â¹ 14,000No Extra Maintenance\n",
      "â¹ 50,000No Extra Maintenance\n",
      "â¹ 35,000 +â¹ 2,500Maintenance\n"
     ]
    }
   ],
   "source": [
    "emi_all = soup.find_all(\"div\",{\"id\":\"minimumRent\"})\n",
    "for i in emi_all: # for iteration and getting text\n",
    "    print(i.text)"
   ]
  },
  {
   "cell_type": "code",
   "execution_count": 37,
   "id": "6e408246",
   "metadata": {},
   "outputs": [
    {
     "data": {
      "text/plain": [
       "'â\\x82¹2,00,000'"
      ]
     },
     "execution_count": 37,
     "metadata": {},
     "output_type": "execute_result"
    }
   ],
   "source": [
    "deposit = soup.find(\"div\",{\"id\":\"roomType\"})\n",
    "deposit.text"
   ]
  },
  {
   "cell_type": "code",
   "execution_count": 54,
   "id": "d3a7c524",
   "metadata": {},
   "outputs": [
    {
     "data": {
      "text/plain": [
       "[<div class=\"font-semi-bold heading-6\" id=\"roomType\"><span>â¹</span>2,00,000</div>,\n",
       " <div class=\"font-semi-bold heading-6\" id=\"roomType\"><span>â¹</span>2,00,000</div>,\n",
       " <div class=\"font-semi-bold heading-6\" id=\"roomType\"><span>â¹</span>1,50,000</div>,\n",
       " <div class=\"font-semi-bold heading-6\" id=\"roomType\"><span>â¹</span>3,00,000</div>,\n",
       " <div class=\"font-semi-bold heading-6\" id=\"roomType\"><span>â¹</span>4,00,000</div>,\n",
       " <div class=\"font-semi-bold heading-6\" id=\"roomType\"><span>â¹</span>2,00,000</div>,\n",
       " <div class=\"font-semi-bold heading-6\" id=\"roomType\"><span>â¹</span>4,00,000</div>,\n",
       " <div class=\"font-semi-bold heading-6\" id=\"roomType\"><span>â¹</span>1,50,000</div>,\n",
       " <div class=\"font-semi-bold heading-6\" id=\"roomType\"><span>â¹</span>60,000</div>,\n",
       " <div class=\"font-semi-bold heading-6\" id=\"roomType\"><span>â¹</span>1,70,000</div>,\n",
       " <div class=\"font-semi-bold heading-6\" id=\"roomType\"><span>â¹</span>60,000</div>,\n",
       " <div class=\"font-semi-bold heading-6\" id=\"roomType\"><span>â¹</span>1,10,000</div>,\n",
       " <div class=\"font-semi-bold heading-6\" id=\"roomType\"><span>â¹</span>1,80,000</div>,\n",
       " <div class=\"font-semi-bold heading-6\" id=\"roomType\"><span>â¹</span>1,60,000</div>,\n",
       " <div class=\"font-semi-bold heading-6\" id=\"roomType\"><span>â¹</span>1,50,000</div>,\n",
       " <div class=\"font-semi-bold heading-6\" id=\"roomType\"><span>â¹</span>1,00,000</div>,\n",
       " <div class=\"font-semi-bold heading-6\" id=\"roomType\"><span>â¹</span>1,80,000</div>,\n",
       " <div class=\"font-semi-bold heading-6\" id=\"roomType\"><span>â¹</span>30,00,000</div>,\n",
       " <div class=\"font-semi-bold heading-6\" id=\"roomType\"><span>â¹</span>1,20,000</div>,\n",
       " <div class=\"font-semi-bold heading-6\" id=\"roomType\"><span>â¹</span>30,000</div>,\n",
       " <div class=\"font-semi-bold heading-6\" id=\"roomType\"><span>â¹</span>50,000</div>,\n",
       " <div class=\"font-semi-bold heading-6\" id=\"roomType\"><span>â¹</span>2,00,000</div>,\n",
       " <div class=\"font-semi-bold heading-6\" id=\"roomType\"><span>â¹</span>1,75,000</div>,\n",
       " <div class=\"font-semi-bold heading-6\" id=\"roomType\"><span>â¹</span>1,40,000</div>,\n",
       " <div class=\"font-semi-bold heading-6\" id=\"roomType\"><span>â¹</span>5,00,000</div>,\n",
       " <div class=\"font-semi-bold heading-6\" id=\"roomType\"><span>â¹</span>2,00,000</div>]"
      ]
     },
     "execution_count": 54,
     "metadata": {},
     "output_type": "execute_result"
    }
   ],
   "source": [
    "deposit = soup.find_all(\"div\",{\"id\":\"roomType\"})\n",
    "deposit"
   ]
  },
  {
   "cell_type": "code",
   "execution_count": 55,
   "id": "43c1b1a8",
   "metadata": {},
   "outputs": [
    {
     "name": "stdout",
     "output_type": "stream",
     "text": [
      "â¹2,00,000\n",
      "â¹2,00,000\n",
      "â¹1,50,000\n",
      "â¹3,00,000\n",
      "â¹4,00,000\n",
      "â¹2,00,000\n",
      "â¹4,00,000\n",
      "â¹1,50,000\n",
      "â¹60,000\n",
      "â¹1,70,000\n",
      "â¹60,000\n",
      "â¹1,10,000\n",
      "â¹1,80,000\n",
      "â¹1,60,000\n",
      "â¹1,50,000\n",
      "â¹1,00,000\n",
      "â¹1,80,000\n",
      "â¹30,00,000\n",
      "â¹1,20,000\n",
      "â¹30,000\n",
      "â¹50,000\n",
      "â¹2,00,000\n",
      "â¹1,75,000\n",
      "â¹1,40,000\n",
      "â¹5,00,000\n",
      "â¹2,00,000\n"
     ]
    }
   ],
   "source": [
    "for i in deposit:\n",
    "    print(i.text)"
   ]
  },
  {
   "cell_type": "code",
   "execution_count": 57,
   "id": "c55f4a37",
   "metadata": {},
   "outputs": [
    {
     "data": {
      "text/plain": [
       "['2 BHK Apartment In Shanthi Park Apartments for Rent  In Jayanagar',\n",
       " '2 BHK House for Rent  In Cool Joint',\n",
       " '2 BHK House for Rent  In Basavanagudi, ',\n",
       " '3 BHK Flat In Arifa Shaukhath for Rent  In  Jayanagar',\n",
       " '3 BHK Apartment In Ushas Apartments for Rent  In Wing-b Block-4, Ushas Apartment, 4th T Block East, Jayanagar 3rd Block East, Jayanagar, Bengaluru, Karnataka 560011, India',\n",
       " '2 BHK Flat for Rent  In Jayanagar',\n",
       " '2 BHK Flat In Shruti  for Rent  In Jayanagar',\n",
       " '1 BHK Apartment In Godrej Nurture Electronic City Phase 1 for Rent  In Godrej Nurture',\n",
       " '1 BHK Flat for Rent  In Jayanagar ',\n",
       " '2 BHK Flat In Sri Lakshmi Venkateshawra Bhavana for Rent  In Basavanagudi',\n",
       " '1 BHK House for Rent  In Jayanagar 3rd Block East, Jayanagar',\n",
       " '2 BHK House for Rent  In Jayanagar',\n",
       " '2 BHK House for Rent  In Jayanagar',\n",
       " '1 BHK House for Rent  In Jaya Nagar',\n",
       " '3 BHK House for Rent  In Jayanagar',\n",
       " '1 RK House for Rent  In Jayanagara 7th Block',\n",
       " '2 BHK Flat for Rent  In Tata Silk Farm',\n",
       " '2 BHK Flat In Standalone  Building  for Lease  In Jayanagar',\n",
       " '2 BHK Flat In R K Palace Apartment for Rent  In Jayanagar',\n",
       " '1 RK Flat In Poornabodha Nilaya for Rent  In Jayanagar 9th Block 25 Main 14 Cors Bangalore',\n",
       " '1 RK House for Rent  In Jayanagar',\n",
       " '3 BHK Apartment In Godrej Nurture Electronic City for Rent  In Electronic City Phase I',\n",
       " '2 BHK House for Rent  In Jayanagar 1st Block',\n",
       " '2 BHK Flat for Rent  In Jayanagar',\n",
       " '3 BHK House for Rent  In Jp Nagar',\n",
       " '2 BHK Apartment In Shanthi Park Apartments for Rent  In Jayanagar']"
      ]
     },
     "execution_count": 57,
     "metadata": {},
     "output_type": "execute_result"
    }
   ],
   "source": [
    "# multiples title\n",
    "titles = []\n",
    "for i in soup.find_all(\"h2\",class_=\"heading-6 flex items-center font-semi-bold m-0\"):\n",
    "    titles.append(i.text)\n",
    "titles"
   ]
  },
  {
   "cell_type": "code",
   "execution_count": 62,
   "id": "284932b5",
   "metadata": {},
   "outputs": [
    {
     "data": {
      "text/plain": [
       "['Shanthi Park ApartmentsÂ\\xa0 Shanthi Park Apartments, Marenahalli Rd, Kottapalya, 2nd Phase, Jayanagar, Bengaluru, Karnataka 560041',\n",
       " 'Independent House, cool joint, near complex, near to 1000 circle , near to hnimas hospital',\n",
       " \"Independent House, 6th B Main Rd, near Sri Kumaran Children's Home - State Board, Tata Silk Farm \",\n",
       " 'RBI Extension, near medicure hospital',\n",
       " 'Ushas ApartmentsÂ\\xa0 jayanagar 4th block',\n",
       " 'standalone building, 4th T Block East, near Cakewala 4th T Block, ',\n",
       " '9th Main Rd, 4th Block, Near BSNL Telephone Exchange',\n",
       " 'Godrej Nurture Electronic City Phase 1Â\\xa0 electronic city phase 1',\n",
       " 'Standalone Building, 9th Block 38th B Cross Rd 26th Main Rd, Near Karnataka Bank',\n",
       " \"Tata Silk Farm,Near Sri Kumaran Children's Home\",\n",
       " 'Independent House, 14/5,1st cross GH layout,3rd blockeastjayanagar.down to PM swimmingpool',\n",
       " 'Independent House, Near Garuda Swagath Inox / D- Mart',\n",
       " 'Independent House, 11 cross 8 main',\n",
       " 'Independent House, 9th Block, Near GNR Kalyana Mantapa',\n",
       " 'Independent House, Near Kalyani Sri Ganapathy temple, Lalbagh South Gate, 1st block, 3, Ashoka Pillar Rd, 1st Block, Siddapura',\n",
       " 'Independent House, Near Deepak Nursing Home, Kanakapura Road, 7th Block, Jayanagar',\n",
       " 'standalone building, 9th main , near Athmashree Educational Association',\n",
       " 'Kittur Rani chennamma sports complex',\n",
       " 'Jaya Nagar 1st Block, Someshwara Nagar, , ',\n",
       " 'near manipal hospital',\n",
       " 'Independent House, Bannerughatta Approach Road Layout, near  Carmel Convent School',\n",
       " 'Godrej Nurture Electronic CityÂ\\xa0 Electronic City, Bangalore',\n",
       " 'Independent House, 8th Mail Road, Near NIMHANS',\n",
       " 'standalone building, 4th T Block East, Tilak Nagar, near  Sagar Hospital,',\n",
       " 'Independent House,  Behind Reliance Smart BAZAAR',\n",
       " 'Shanthi Park ApartmentsÂ\\xa0 Shanthi Park Apartments, Marenahalli Rd, Kottapalya, 2nd Phase, Jayanagar, Bengaluru, Karnataka 560041']"
      ]
     },
     "execution_count": 62,
     "metadata": {},
     "output_type": "execute_result"
    }
   ],
   "source": [
    "location = []\n",
    "for i in soup.find_all(\"div\",class_=\"mt-0.5p overflow-hidden overflow-ellipsis whitespace-\\\n",
    "nowrap max-w-70 text-gray-light leading-4 po:mb-0.1p po:max-w-95\"):\n",
    "    location.append(i.text)\n",
    "location"
   ]
  },
  {
   "cell_type": "code",
   "execution_count": 65,
   "id": "ea0cf41e",
   "metadata": {},
   "outputs": [
    {
     "data": {
      "text/plain": [
       "['â\\x82¹ 35,000 +â\\x82¹ 2,500Maintenance',\n",
       " 'â\\x82¹ 25,000No Extra Maintenance',\n",
       " 'â\\x82¹ 15,000 +â\\x82¹ 1Maintenance',\n",
       " 'â\\x82¹ 26,000 +â\\x82¹ 2,500Maintenance',\n",
       " 'â\\x82¹ 55,000 +â\\x82¹ 3,300Maintenance',\n",
       " 'â\\x82¹ 20,000No Extra Maintenance',\n",
       " 'â\\x82¹ 40,000 +â\\x82¹ 1,000Maintenance',\n",
       " 'â\\x82¹ 27,000 +â\\x82¹ 2,500Maintenance',\n",
       " 'â\\x82¹ 12,000No Extra Maintenance',\n",
       " 'â\\x82¹ 17,000No Extra Maintenance',\n",
       " 'â\\x82¹ 12,000No Extra Maintenance',\n",
       " 'â\\x82¹ 11,500No Extra Maintenance',\n",
       " 'â\\x82¹ 35,000No Extra Maintenance',\n",
       " 'â\\x82¹ 16,000No Extra Maintenance',\n",
       " 'â\\x82¹ 28,000No Extra Maintenance',\n",
       " 'â\\x82¹ 10,000No Extra Maintenance',\n",
       " 'â\\x82¹ 18,000No Extra Maintenance',\n",
       " 'Only DepositNo Extra Maintenance',\n",
       " 'â\\x82¹ 13,000 +â\\x82¹ 1,000Maintenance',\n",
       " 'â\\x82¹ 7,000No Extra Maintenance',\n",
       " 'â\\x82¹ 15,000No Extra Maintenance',\n",
       " 'â\\x82¹ 45,000 +â\\x82¹ 6,000Maintenance',\n",
       " 'â\\x82¹ 28,500No Extra Maintenance',\n",
       " 'â\\x82¹ 14,000No Extra Maintenance',\n",
       " 'â\\x82¹ 50,000No Extra Maintenance',\n",
       " 'â\\x82¹ 35,000 +â\\x82¹ 2,500Maintenance']"
      ]
     },
     "execution_count": 65,
     "metadata": {},
     "output_type": "execute_result"
    }
   ],
   "source": [
    "emi = []\n",
    "for i in soup.find_all(\"div\",{\"id\":\"minimumRent\"}):\n",
    "                              emi.append(i.text)\n",
    "emi"
   ]
  },
  {
   "cell_type": "code",
   "execution_count": 66,
   "id": "82445d8c",
   "metadata": {},
   "outputs": [
    {
     "data": {
      "text/plain": [
       "['â\\x82¹2,00,000',\n",
       " 'â\\x82¹2,00,000',\n",
       " 'â\\x82¹1,50,000',\n",
       " 'â\\x82¹3,00,000',\n",
       " 'â\\x82¹4,00,000',\n",
       " 'â\\x82¹2,00,000',\n",
       " 'â\\x82¹4,00,000',\n",
       " 'â\\x82¹1,50,000',\n",
       " 'â\\x82¹60,000',\n",
       " 'â\\x82¹1,70,000',\n",
       " 'â\\x82¹60,000',\n",
       " 'â\\x82¹1,10,000',\n",
       " 'â\\x82¹1,80,000',\n",
       " 'â\\x82¹1,60,000',\n",
       " 'â\\x82¹1,50,000',\n",
       " 'â\\x82¹1,00,000',\n",
       " 'â\\x82¹1,80,000',\n",
       " 'â\\x82¹30,00,000',\n",
       " 'â\\x82¹1,20,000',\n",
       " 'â\\x82¹30,000',\n",
       " 'â\\x82¹50,000',\n",
       " 'â\\x82¹2,00,000',\n",
       " 'â\\x82¹1,75,000',\n",
       " 'â\\x82¹1,40,000',\n",
       " 'â\\x82¹5,00,000',\n",
       " 'â\\x82¹2,00,000']"
      ]
     },
     "execution_count": 66,
     "metadata": {},
     "output_type": "execute_result"
    }
   ],
   "source": [
    "deposit = []\n",
    "for i in soup.find_all(\"div\",{\"id\":\"roomType\"}):\n",
    "    deposit.append(i.text)\n",
    "deposit"
   ]
  },
  {
   "cell_type": "code",
   "execution_count": 67,
   "id": "7fbb85a8",
   "metadata": {},
   "outputs": [],
   "source": [
    "import pandas as pd"
   ]
  },
  {
   "cell_type": "code",
   "execution_count": 68,
   "id": "3faa863d",
   "metadata": {},
   "outputs": [
    {
     "data": {
      "text/html": [
       "<div>\n",
       "<style scoped>\n",
       "    .dataframe tbody tr th:only-of-type {\n",
       "        vertical-align: middle;\n",
       "    }\n",
       "\n",
       "    .dataframe tbody tr th {\n",
       "        vertical-align: top;\n",
       "    }\n",
       "\n",
       "    .dataframe thead th {\n",
       "        text-align: right;\n",
       "    }\n",
       "</style>\n",
       "<table border=\"1\" class=\"dataframe\">\n",
       "  <thead>\n",
       "    <tr style=\"text-align: right;\">\n",
       "      <th></th>\n",
       "      <th>Title</th>\n",
       "      <th>Location</th>\n",
       "      <th>Rent</th>\n",
       "      <th>Deposit</th>\n",
       "    </tr>\n",
       "  </thead>\n",
       "  <tbody>\n",
       "    <tr>\n",
       "      <th>0</th>\n",
       "      <td>2 BHK Apartment In Shanthi Park Apartments for...</td>\n",
       "      <td>Shanthi Park ApartmentsÂ  Shanthi Park Apartme...</td>\n",
       "      <td>â¹ 35,000 +â¹ 2,500Maintenance</td>\n",
       "      <td>â¹2,00,000</td>\n",
       "    </tr>\n",
       "    <tr>\n",
       "      <th>1</th>\n",
       "      <td>2 BHK House for Rent  In Cool Joint</td>\n",
       "      <td>Independent House, cool joint, near complex, n...</td>\n",
       "      <td>â¹ 25,000No Extra Maintenance</td>\n",
       "      <td>â¹2,00,000</td>\n",
       "    </tr>\n",
       "    <tr>\n",
       "      <th>2</th>\n",
       "      <td>2 BHK House for Rent  In Basavanagudi,</td>\n",
       "      <td>Independent House, 6th B Main Rd, near Sri Kum...</td>\n",
       "      <td>â¹ 15,000 +â¹ 1Maintenance</td>\n",
       "      <td>â¹1,50,000</td>\n",
       "    </tr>\n",
       "    <tr>\n",
       "      <th>3</th>\n",
       "      <td>3 BHK Flat In Arifa Shaukhath for Rent  In  Ja...</td>\n",
       "      <td>RBI Extension, near medicure hospital</td>\n",
       "      <td>â¹ 26,000 +â¹ 2,500Maintenance</td>\n",
       "      <td>â¹3,00,000</td>\n",
       "    </tr>\n",
       "    <tr>\n",
       "      <th>4</th>\n",
       "      <td>3 BHK Apartment In Ushas Apartments for Rent  ...</td>\n",
       "      <td>Ushas ApartmentsÂ  jayanagar 4th block</td>\n",
       "      <td>â¹ 55,000 +â¹ 3,300Maintenance</td>\n",
       "      <td>â¹4,00,000</td>\n",
       "    </tr>\n",
       "    <tr>\n",
       "      <th>5</th>\n",
       "      <td>2 BHK Flat for Rent  In Jayanagar</td>\n",
       "      <td>standalone building, 4th T Block East, near Ca...</td>\n",
       "      <td>â¹ 20,000No Extra Maintenance</td>\n",
       "      <td>â¹2,00,000</td>\n",
       "    </tr>\n",
       "    <tr>\n",
       "      <th>6</th>\n",
       "      <td>2 BHK Flat In Shruti  for Rent  In Jayanagar</td>\n",
       "      <td>9th Main Rd, 4th Block, Near BSNL Telephone Ex...</td>\n",
       "      <td>â¹ 40,000 +â¹ 1,000Maintenance</td>\n",
       "      <td>â¹4,00,000</td>\n",
       "    </tr>\n",
       "    <tr>\n",
       "      <th>7</th>\n",
       "      <td>1 BHK Apartment In Godrej Nurture Electronic C...</td>\n",
       "      <td>Godrej Nurture Electronic City Phase 1Â  elect...</td>\n",
       "      <td>â¹ 27,000 +â¹ 2,500Maintenance</td>\n",
       "      <td>â¹1,50,000</td>\n",
       "    </tr>\n",
       "    <tr>\n",
       "      <th>8</th>\n",
       "      <td>1 BHK Flat for Rent  In Jayanagar</td>\n",
       "      <td>Standalone Building, 9th Block 38th B Cross Rd...</td>\n",
       "      <td>â¹ 12,000No Extra Maintenance</td>\n",
       "      <td>â¹60,000</td>\n",
       "    </tr>\n",
       "    <tr>\n",
       "      <th>9</th>\n",
       "      <td>2 BHK Flat In Sri Lakshmi Venkateshawra Bhavan...</td>\n",
       "      <td>Tata Silk Farm,Near Sri Kumaran Children's Home</td>\n",
       "      <td>â¹ 17,000No Extra Maintenance</td>\n",
       "      <td>â¹1,70,000</td>\n",
       "    </tr>\n",
       "    <tr>\n",
       "      <th>10</th>\n",
       "      <td>1 BHK House for Rent  In Jayanagar 3rd Block E...</td>\n",
       "      <td>Independent House, 14/5,1st cross GH layout,3r...</td>\n",
       "      <td>â¹ 12,000No Extra Maintenance</td>\n",
       "      <td>â¹60,000</td>\n",
       "    </tr>\n",
       "    <tr>\n",
       "      <th>11</th>\n",
       "      <td>2 BHK House for Rent  In Jayanagar</td>\n",
       "      <td>Independent House, Near Garuda Swagath Inox / ...</td>\n",
       "      <td>â¹ 11,500No Extra Maintenance</td>\n",
       "      <td>â¹1,10,000</td>\n",
       "    </tr>\n",
       "    <tr>\n",
       "      <th>12</th>\n",
       "      <td>2 BHK House for Rent  In Jayanagar</td>\n",
       "      <td>Independent House, 11 cross 8 main</td>\n",
       "      <td>â¹ 35,000No Extra Maintenance</td>\n",
       "      <td>â¹1,80,000</td>\n",
       "    </tr>\n",
       "    <tr>\n",
       "      <th>13</th>\n",
       "      <td>1 BHK House for Rent  In Jaya Nagar</td>\n",
       "      <td>Independent House, 9th Block, Near GNR Kalyana...</td>\n",
       "      <td>â¹ 16,000No Extra Maintenance</td>\n",
       "      <td>â¹1,60,000</td>\n",
       "    </tr>\n",
       "    <tr>\n",
       "      <th>14</th>\n",
       "      <td>3 BHK House for Rent  In Jayanagar</td>\n",
       "      <td>Independent House, Near Kalyani Sri Ganapathy ...</td>\n",
       "      <td>â¹ 28,000No Extra Maintenance</td>\n",
       "      <td>â¹1,50,000</td>\n",
       "    </tr>\n",
       "    <tr>\n",
       "      <th>15</th>\n",
       "      <td>1 RK House for Rent  In Jayanagara 7th Block</td>\n",
       "      <td>Independent House, Near Deepak Nursing Home, K...</td>\n",
       "      <td>â¹ 10,000No Extra Maintenance</td>\n",
       "      <td>â¹1,00,000</td>\n",
       "    </tr>\n",
       "    <tr>\n",
       "      <th>16</th>\n",
       "      <td>2 BHK Flat for Rent  In Tata Silk Farm</td>\n",
       "      <td>standalone building, 9th main , near Athmashre...</td>\n",
       "      <td>â¹ 18,000No Extra Maintenance</td>\n",
       "      <td>â¹1,80,000</td>\n",
       "    </tr>\n",
       "    <tr>\n",
       "      <th>17</th>\n",
       "      <td>2 BHK Flat In Standalone  Building  for Lease ...</td>\n",
       "      <td>Kittur Rani chennamma sports complex</td>\n",
       "      <td>Only DepositNo Extra Maintenance</td>\n",
       "      <td>â¹30,00,000</td>\n",
       "    </tr>\n",
       "    <tr>\n",
       "      <th>18</th>\n",
       "      <td>2 BHK Flat In R K Palace Apartment for Rent  I...</td>\n",
       "      <td>Jaya Nagar 1st Block, Someshwara Nagar, ,</td>\n",
       "      <td>â¹ 13,000 +â¹ 1,000Maintenance</td>\n",
       "      <td>â¹1,20,000</td>\n",
       "    </tr>\n",
       "    <tr>\n",
       "      <th>19</th>\n",
       "      <td>1 RK Flat In Poornabodha Nilaya for Rent  In J...</td>\n",
       "      <td>near manipal hospital</td>\n",
       "      <td>â¹ 7,000No Extra Maintenance</td>\n",
       "      <td>â¹30,000</td>\n",
       "    </tr>\n",
       "    <tr>\n",
       "      <th>20</th>\n",
       "      <td>1 RK House for Rent  In Jayanagar</td>\n",
       "      <td>Independent House, Bannerughatta Approach Road...</td>\n",
       "      <td>â¹ 15,000No Extra Maintenance</td>\n",
       "      <td>â¹50,000</td>\n",
       "    </tr>\n",
       "    <tr>\n",
       "      <th>21</th>\n",
       "      <td>3 BHK Apartment In Godrej Nurture Electronic C...</td>\n",
       "      <td>Godrej Nurture Electronic CityÂ  Electronic Ci...</td>\n",
       "      <td>â¹ 45,000 +â¹ 6,000Maintenance</td>\n",
       "      <td>â¹2,00,000</td>\n",
       "    </tr>\n",
       "    <tr>\n",
       "      <th>22</th>\n",
       "      <td>2 BHK House for Rent  In Jayanagar 1st Block</td>\n",
       "      <td>Independent House, 8th Mail Road, Near NIMHANS</td>\n",
       "      <td>â¹ 28,500No Extra Maintenance</td>\n",
       "      <td>â¹1,75,000</td>\n",
       "    </tr>\n",
       "    <tr>\n",
       "      <th>23</th>\n",
       "      <td>2 BHK Flat for Rent  In Jayanagar</td>\n",
       "      <td>standalone building, 4th T Block East, Tilak N...</td>\n",
       "      <td>â¹ 14,000No Extra Maintenance</td>\n",
       "      <td>â¹1,40,000</td>\n",
       "    </tr>\n",
       "    <tr>\n",
       "      <th>24</th>\n",
       "      <td>3 BHK House for Rent  In Jp Nagar</td>\n",
       "      <td>Independent House,  Behind Reliance Smart BAZAAR</td>\n",
       "      <td>â¹ 50,000No Extra Maintenance</td>\n",
       "      <td>â¹5,00,000</td>\n",
       "    </tr>\n",
       "    <tr>\n",
       "      <th>25</th>\n",
       "      <td>2 BHK Apartment In Shanthi Park Apartments for...</td>\n",
       "      <td>Shanthi Park ApartmentsÂ  Shanthi Park Apartme...</td>\n",
       "      <td>â¹ 35,000 +â¹ 2,500Maintenance</td>\n",
       "      <td>â¹2,00,000</td>\n",
       "    </tr>\n",
       "  </tbody>\n",
       "</table>\n",
       "</div>"
      ],
      "text/plain": [
       "                                                Title  \\\n",
       "0   2 BHK Apartment In Shanthi Park Apartments for...   \n",
       "1                 2 BHK House for Rent  In Cool Joint   \n",
       "2             2 BHK House for Rent  In Basavanagudi,    \n",
       "3   3 BHK Flat In Arifa Shaukhath for Rent  In  Ja...   \n",
       "4   3 BHK Apartment In Ushas Apartments for Rent  ...   \n",
       "5                   2 BHK Flat for Rent  In Jayanagar   \n",
       "6        2 BHK Flat In Shruti  for Rent  In Jayanagar   \n",
       "7   1 BHK Apartment In Godrej Nurture Electronic C...   \n",
       "8                  1 BHK Flat for Rent  In Jayanagar    \n",
       "9   2 BHK Flat In Sri Lakshmi Venkateshawra Bhavan...   \n",
       "10  1 BHK House for Rent  In Jayanagar 3rd Block E...   \n",
       "11                 2 BHK House for Rent  In Jayanagar   \n",
       "12                 2 BHK House for Rent  In Jayanagar   \n",
       "13                1 BHK House for Rent  In Jaya Nagar   \n",
       "14                 3 BHK House for Rent  In Jayanagar   \n",
       "15       1 RK House for Rent  In Jayanagara 7th Block   \n",
       "16             2 BHK Flat for Rent  In Tata Silk Farm   \n",
       "17  2 BHK Flat In Standalone  Building  for Lease ...   \n",
       "18  2 BHK Flat In R K Palace Apartment for Rent  I...   \n",
       "19  1 RK Flat In Poornabodha Nilaya for Rent  In J...   \n",
       "20                  1 RK House for Rent  In Jayanagar   \n",
       "21  3 BHK Apartment In Godrej Nurture Electronic C...   \n",
       "22       2 BHK House for Rent  In Jayanagar 1st Block   \n",
       "23                  2 BHK Flat for Rent  In Jayanagar   \n",
       "24                  3 BHK House for Rent  In Jp Nagar   \n",
       "25  2 BHK Apartment In Shanthi Park Apartments for...   \n",
       "\n",
       "                                             Location  \\\n",
       "0   Shanthi Park ApartmentsÂ  Shanthi Park Apartme...   \n",
       "1   Independent House, cool joint, near complex, n...   \n",
       "2   Independent House, 6th B Main Rd, near Sri Kum...   \n",
       "3               RBI Extension, near medicure hospital   \n",
       "4              Ushas ApartmentsÂ  jayanagar 4th block   \n",
       "5   standalone building, 4th T Block East, near Ca...   \n",
       "6   9th Main Rd, 4th Block, Near BSNL Telephone Ex...   \n",
       "7   Godrej Nurture Electronic City Phase 1Â  elect...   \n",
       "8   Standalone Building, 9th Block 38th B Cross Rd...   \n",
       "9     Tata Silk Farm,Near Sri Kumaran Children's Home   \n",
       "10  Independent House, 14/5,1st cross GH layout,3r...   \n",
       "11  Independent House, Near Garuda Swagath Inox / ...   \n",
       "12                 Independent House, 11 cross 8 main   \n",
       "13  Independent House, 9th Block, Near GNR Kalyana...   \n",
       "14  Independent House, Near Kalyani Sri Ganapathy ...   \n",
       "15  Independent House, Near Deepak Nursing Home, K...   \n",
       "16  standalone building, 9th main , near Athmashre...   \n",
       "17               Kittur Rani chennamma sports complex   \n",
       "18         Jaya Nagar 1st Block, Someshwara Nagar, ,    \n",
       "19                              near manipal hospital   \n",
       "20  Independent House, Bannerughatta Approach Road...   \n",
       "21  Godrej Nurture Electronic CityÂ  Electronic Ci...   \n",
       "22     Independent House, 8th Mail Road, Near NIMHANS   \n",
       "23  standalone building, 4th T Block East, Tilak N...   \n",
       "24   Independent House,  Behind Reliance Smart BAZAAR   \n",
       "25  Shanthi Park ApartmentsÂ  Shanthi Park Apartme...   \n",
       "\n",
       "                                Rent       Deposit  \n",
       "0   â¹ 35,000 +â¹ 2,500Maintenance   â¹2,00,000  \n",
       "1     â¹ 25,000No Extra Maintenance   â¹2,00,000  \n",
       "2       â¹ 15,000 +â¹ 1Maintenance   â¹1,50,000  \n",
       "3   â¹ 26,000 +â¹ 2,500Maintenance   â¹3,00,000  \n",
       "4   â¹ 55,000 +â¹ 3,300Maintenance   â¹4,00,000  \n",
       "5     â¹ 20,000No Extra Maintenance   â¹2,00,000  \n",
       "6   â¹ 40,000 +â¹ 1,000Maintenance   â¹4,00,000  \n",
       "7   â¹ 27,000 +â¹ 2,500Maintenance   â¹1,50,000  \n",
       "8     â¹ 12,000No Extra Maintenance     â¹60,000  \n",
       "9     â¹ 17,000No Extra Maintenance   â¹1,70,000  \n",
       "10    â¹ 12,000No Extra Maintenance     â¹60,000  \n",
       "11    â¹ 11,500No Extra Maintenance   â¹1,10,000  \n",
       "12    â¹ 35,000No Extra Maintenance   â¹1,80,000  \n",
       "13    â¹ 16,000No Extra Maintenance   â¹1,60,000  \n",
       "14    â¹ 28,000No Extra Maintenance   â¹1,50,000  \n",
       "15    â¹ 10,000No Extra Maintenance   â¹1,00,000  \n",
       "16    â¹ 18,000No Extra Maintenance   â¹1,80,000  \n",
       "17  Only DepositNo Extra Maintenance  â¹30,00,000  \n",
       "18  â¹ 13,000 +â¹ 1,000Maintenance   â¹1,20,000  \n",
       "19     â¹ 7,000No Extra Maintenance     â¹30,000  \n",
       "20    â¹ 15,000No Extra Maintenance     â¹50,000  \n",
       "21  â¹ 45,000 +â¹ 6,000Maintenance   â¹2,00,000  \n",
       "22    â¹ 28,500No Extra Maintenance   â¹1,75,000  \n",
       "23    â¹ 14,000No Extra Maintenance   â¹1,40,000  \n",
       "24    â¹ 50,000No Extra Maintenance   â¹5,00,000  \n",
       "25  â¹ 35,000 +â¹ 2,500Maintenance   â¹2,00,000  "
      ]
     },
     "execution_count": 68,
     "metadata": {},
     "output_type": "execute_result"
    }
   ],
   "source": [
    "df = pd.DataFrame({\"Title\":titles,\"Location\":location,\"Rent\":emi,\"Deposit\":deposit})\n",
    "df"
   ]
  }
 ],
 "metadata": {
  "kernelspec": {
   "display_name": "Python 3 (ipykernel)",
   "language": "python",
   "name": "python3"
  },
  "language_info": {
   "codemirror_mode": {
    "name": "ipython",
    "version": 3
   },
   "file_extension": ".py",
   "mimetype": "text/x-python",
   "name": "python",
   "nbconvert_exporter": "python",
   "pygments_lexer": "ipython3",
   "version": "3.9.13"
  }
 },
 "nbformat": 4,
 "nbformat_minor": 5
}
