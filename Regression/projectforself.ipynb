{
 "cells": [
  {
   "cell_type": "code",
   "execution_count": 1,
   "id": "11dc915b",
   "metadata": {},
   "outputs": [],
   "source": [
    "import re"
   ]
  },
  {
   "cell_type": "raw",
   "id": "85d70376",
   "metadata": {},
   "source": [
    "1- Write a Python program to replace all occurrences of a space, comma, or dot with a colon.\n",
    "\n",
    "# Python:Exercises::PHP:exercises:\n",
    "(Done)"
   ]
  },
  {
   "cell_type": "code",
   "execution_count": 1,
   "id": "232c7799",
   "metadata": {},
   "outputs": [
    {
     "name": "stdout",
     "output_type": "stream",
     "text": [
      "Test :'Python Exercises, PHP exercises.'\n",
      "Result: 'Python:Exercises::PHP:exercises:'\n"
     ]
    }
   ],
   "source": [
    "def x(text):\n",
    "    replacements = {' ': ':', ',': ':', '.': ':'}\n",
    "    for char, replacement in replacements.items():\n",
    "        text = text.replace(char, replacement)\n",
    "    return text\n",
    "\n",
    "# Example usage:\n",
    "input_text = input(\"Test :\")\n",
    "result = x(input_text)\n",
    "print(\"Result:\", result)\n"
   ]
  },
  {
   "cell_type": "raw",
   "id": "d4996715",
   "metadata": {},
   "source": [
    "2.Create a dataframe using the dictionary below and remove everything (commas (,), !, XXXX, ;, etc.) from the columns except words.\n",
    "{'SUMMARY' : ['hello, world!', 'XXXXX test', '123four, five:; six...']}\n",
    "Ans:\n",
    "0      hello world\n",
    "1             test\n",
    "2    four five six\n"
   ]
  },
  {
   "cell_type": "code",
   "execution_count": 1,
   "id": "fb43861a",
   "metadata": {},
   "outputs": [
    {
     "name": "stdout",
     "output_type": "stream",
     "text": [
      "         SUMMARY\n",
      "0    hello world\n",
      "1     XXXXX test\n",
      "2  four five six\n"
     ]
    }
   ],
   "source": [
    "\n",
    "\n",
    "# Sample dictionary\n",
    "data = { 'SUMMARY' : ['hello, world!', 'XXXXX test', '123four, five:; six...']}\n",
    "\n",
    "# Function to remove non-word characters, numbers, and 'XXXX'\n",
    "def x(text):\n",
    "    return re.sub(r'[^a-zA-Z\\s]', '', text)\n",
    "\n",
    "# Create DataFrame\n",
    "df = pd.DataFrame(data)\n",
    "\n",
    "# Apply the clean_text function to each column\n",
    "df = df.applymap(x)\n",
    "\n",
    "# Display the cleaned DataFrame\n",
    "print(df)\n"
   ]
  },
  {
   "cell_type": "raw",
   "id": "eaa8aa13",
   "metadata": {},
   "source": [
    "3.Create a function in python to find all words that are at least 4 characters long in a string. The use of the re.compile() method is mandatory.\n",
    "(Done)"
   ]
  },
  {
   "cell_type": "code",
   "execution_count": 6,
   "id": "ae9ab210",
   "metadata": {},
   "outputs": [
    {
     "name": "stdout",
     "output_type": "stream",
     "text": [
      "['Sita', 'matae', 'godess', 'Wife', 'rama']\n"
     ]
    }
   ],
   "source": [
    "\n",
    "def x(text):\n",
    "    # Compile a regular expression pattern to match words of at least 4 characters\n",
    "    pattern = re.compile(r'\\b\\w{4,}\\b')\n",
    "    \n",
    "    # Find all matches using findall() method\n",
    "    y = pattern.findall(text)\n",
    "    \n",
    "    return y\n",
    "\n",
    "# Example usage:\n",
    "z = \"Sita matae is godess and Wife of rama\"\n",
    "result = x(z)\n",
    "print(result)\n"
   ]
  },
  {
   "cell_type": "raw",
   "id": "d08eeac5",
   "metadata": {},
   "source": [
    "Question 4- Create a function in python to find all three, four, and five character words in a string. The use of the re.compile() method is mandatory.\n",
    "(Done)"
   ]
  },
  {
   "cell_type": "code",
   "execution_count": 9,
   "id": "a3664297",
   "metadata": {},
   "outputs": [
    {
     "name": "stdout",
     "output_type": "stream",
     "text": [
      "['Data', 'the', 'heart', 'Noida']\n"
     ]
    }
   ],
   "source": [
    "def x(text):\n",
    "    # Compile a regular expression pattern to match words of length 3, 4, or 5 characters\n",
    "    pattern = re.compile(r'\\b\\w{3,5}\\b')\n",
    "    \n",
    "    # Find all matches using findall() method\n",
    "    y = pattern.findall(text)\n",
    "    \n",
    "    return y\n",
    "\n",
    "# Example usage:\n",
    "z = \"Data trained is loacted at the heart of Noida\"\n",
    "result = x(z)\n",
    "print(result)\n"
   ]
  },
  {
   "cell_type": "raw",
   "id": "8095594e",
   "metadata": {},
   "source": [
    "Question 5- Create a function in Python to remove the parenthesis in a list of strings. The use of the re.compile() method is mandatory.\n",
    "\n",
    "Sample Text: [\"example (.com)\", \"hr@fliprobo (.com)\", \"github (.com)\", \"Hello (Data Science World)\", \"Data (Scientist)\"]\n",
    "example.com\n",
    "hr@fliprobo.com\n",
    "github.com\n",
    "Hello Data Science World\n",
    "(Done)"
   ]
  },
  {
   "cell_type": "code",
   "execution_count": 14,
   "id": "3ddc89f6",
   "metadata": {},
   "outputs": [
    {
     "name": "stdout",
     "output_type": "stream",
     "text": [
      "['example .com', 'hr@fliprobo .com', 'github .com', 'Hello Data Science World', 'Data Scientist']\n"
     ]
    }
   ],
   "source": [
    "def x(strings):\n",
    "    # Compile a regular expression pattern to match parentheses\n",
    "    pattern = re.compile(r'\\(|\\)')\n",
    "\n",
    "    # Remove parentheses from each string using sub() method\n",
    "    y = [pattern.sub('', s) for s in strings]\n",
    "\n",
    "    return y\n",
    "\n",
    "# Example usage:\n",
    "z = [\"example (.com)\", \"hr@fliprobo (.com)\", \"github (.com)\", \\\n",
    "                   \"Hello (Data Science World)\", \\\n",
    "                   \"Data (Scientist)\"]\n",
    "result = x(z)\n",
    "print( result)\n"
   ]
  },
  {
   "cell_type": "raw",
   "id": "e82479cc",
   "metadata": {},
   "source": [
    "6.Write a python program to remove the parenthesis area from the text stored in the text file using Regular Expression\n",
    "A : [\"example (.com)\", \"hr@fliprobo (.com)\", \"github (.com)\", \"Hello (Data Science World)\", \"Data (Scientist)\"]"
   ]
  },
  {
   "cell_type": "code",
   "execution_count": 30,
   "id": "15ff8f85",
   "metadata": {},
   "outputs": [
    {
     "ename": "SyntaxError",
     "evalue": "invalid syntax (1414967922.py, line 3)",
     "output_type": "error",
     "traceback": [
      "\u001b[1;36m  File \u001b[1;32m\"C:\\Users\\DELL\\AppData\\Local\\Temp\\ipykernel_336\\1414967922.py\"\u001b[1;36m, line \u001b[1;32m3\u001b[0m\n\u001b[1;33m    def remove_parentheses_area(\"D:\\\\Cloudyml\\\\Datatrained\\\\Dataset\\\\Project\"):\u001b[0m\n\u001b[1;37m                                ^\u001b[0m\n\u001b[1;31mSyntaxError\u001b[0m\u001b[1;31m:\u001b[0m invalid syntax\n"
     ]
    }
   ],
   "source": [
    "import re\n",
    "\n",
    "def remove_parentheses_area(\"D:\\\\Cloudyml\\\\Datatrained\\\\Dataset\\\\Project\"):\n",
    "    # Read text from the file\n",
    "    with open(\"D:\\\\Cloudyml\\\\Datatrained\\\\Dataset\\\\Project\", 'r') as file:\n",
    "        text = file.read()\n",
    "\n",
    "    # Use regular expression to remove content within parentheses\n",
    "    text_without_parentheses = re.sub(r'\\([^()]*\\)', '', text)\n",
    "\n",
    "    # Write modified text back to the file\n",
    "    with open(\"D:\\\\Cloudyml\\\\Datatrained\\\\Dataset\\\\Project\", 'w') as file:\n",
    "        file.write(text_without_parentheses)\n",
    "\n",
    "# Test the function with a sample file\n",
    "file_name = 'D:\\\\Cloudyml\\\\Datatrained\\\\Dataset\\\\Project'  # Change this to the name of your text file\n",
    "remove_parentheses_area(file_name)\n",
    "print(\"Parentheses area removed from the file.\")\n"
   ]
  },
  {
   "cell_type": "raw",
   "id": "f8bf5285",
   "metadata": {},
   "source": [
    "7.Write a regular expression in Python to split a string into uppercase letters\n",
    "(Done)"
   ]
  },
  {
   "cell_type": "code",
   "execution_count": 18,
   "id": "1381dd27",
   "metadata": {},
   "outputs": [
    {
     "name": "stdout",
     "output_type": "stream",
     "text": [
      "['I', 'O', 'R', 'E', 'I', 'P']\n"
     ]
    }
   ],
   "source": [
    "def x(string):\n",
    "    pattern = r'[A-Z]'\n",
    "    y = re.findall(pattern, string)\n",
    "    return y\n",
    "\n",
    "# Example usage:\n",
    "z = \"ImportanceOfRegularExpressionsInPython\"\n",
    "uppercase_letters = x(z)\n",
    "print(uppercase_letters)"
   ]
  },
  {
   "cell_type": "raw",
   "id": "c59d1a92",
   "metadata": {},
   "source": [
    "8.Create a function in python to insert spaces between words starting with numbers.\n",
    "(Done)"
   ]
  },
  {
   "cell_type": "code",
   "execution_count": 20,
   "id": "00ee2be4",
   "metadata": {},
   "outputs": [
    {
     "name": "stdout",
     "output_type": "stream",
     "text": [
      "RegularExpression 1IsAn 2ImportantTopic 3InPython\n"
     ]
    }
   ],
   "source": [
    "def x(text):\n",
    "    # Define a regular expression pattern to identify words starting with numbers\n",
    "    pattern = re.compile(r'(?<=\\D)(?=\\d)')\n",
    "\n",
    "    # Insert space before words starting with numbers using sub() method\n",
    "    y = pattern.sub(' ', text)\n",
    "\n",
    "    return y\n",
    "\n",
    "# Example usage:\n",
    "z = \"RegularExpression1IsAn2ImportantTopic3InPython\"\n",
    "result = x(z)\n",
    "print(result)\n",
    "\n"
   ]
  },
  {
   "cell_type": "raw",
   "id": "e6231819",
   "metadata": {},
   "source": [
    "9. Create a function in python to insert spaces between words starting with capital letters or with numbers.\n",
    "(Done)"
   ]
  },
  {
   "cell_type": "code",
   "execution_count": 22,
   "id": "b55a0c8b",
   "metadata": {},
   "outputs": [
    {
     "name": "stdout",
     "output_type": "stream",
     "text": [
      "Formatted text: Regular Expression 1 Is An 2 Important Topic 3 In Python\n"
     ]
    }
   ],
   "source": [
    "def x(text):\n",
    "    # Insert space before capital letters\n",
    "    text = re.sub(r'([A-Z0-9])', r' \\1', text)\n",
    "    # Remove leading space\n",
    "    y = text.strip()\n",
    "    return y\n",
    "\n",
    "# Example usage:\n",
    "z = \"RegularExpression1IsAn2ImportantTopic3InPython\"\n",
    "formatted_text = x(z)\n",
    "print(\"Formatted text:\", formatted_text)"
   ]
  },
  {
   "cell_type": "raw",
   "id": "afa284f2",
   "metadata": {},
   "source": [
    "11- Write a Python program to match a string that contains only upper and lowercase letters, numbers, and underscores\n",
    "(Done)"
   ]
  },
  {
   "cell_type": "code",
   "execution_count": 23,
   "id": "5072ed28",
   "metadata": {},
   "outputs": [
    {
     "name": "stdout",
     "output_type": "stream",
     "text": [
      "'Hello123' matches the pattern.\n",
      "'hello_world' matches the pattern.\n",
      "'123_ABC' matches the pattern.\n",
      "'hello@world' does not match the pattern.\n",
      "'+Ramjee' does not match the pattern.\n"
     ]
    }
   ],
   "source": [
    "def x(string):\n",
    "    pattern = r'^[a-zA-Z0-9_]+$'\n",
    "    return re.match(pattern, string) is not None\n",
    "\n",
    "# Example usage:\n",
    "strings = [\"Hello123\", \"hello_world\", \"123_ABC\", \"hello@world\",\"+Ramjee\"]\n",
    "\n",
    "for string in strings:\n",
    "    if x(string):\n",
    "        print(f\"'{string}' matches the pattern.\")\n",
    "    else:\n",
    "        print(f\"'{string}' does not match the pattern.\")\n"
   ]
  },
  {
   "cell_type": "raw",
   "id": "d86a762f",
   "metadata": {},
   "source": [
    "12.- Write a Python program where a string will start with a specific number\n",
    "(Done)"
   ]
  },
  {
   "cell_type": "code",
   "execution_count": 25,
   "id": "dc7b5f5e",
   "metadata": {},
   "outputs": [
    {
     "name": "stdout",
     "output_type": "stream",
     "text": [
      "The string '123abc' starts with the number 123.\n"
     ]
    }
   ],
   "source": [
    "def x(string, number):\n",
    "    # Convert the number to a string for comparison\n",
    "    y = str(number)\n",
    "    \n",
    "    # Check if the string starts with the number\n",
    "    return string.startswith(y)\n",
    "\n",
    "# Example usage:\n",
    "string = \"123abc\"\n",
    "number = 123\n",
    "if x(string, number):\n",
    "    print(f\"The string '{string}' starts with the number {number}.\")\n",
    "else:\n",
    "    print(f\"The string '{string}' does not start with the number {number}.\")"
   ]
  },
  {
   "cell_type": "raw",
   "id": "7f026aa6",
   "metadata": {},
   "source": [
    "13.Write a Python program to remove leading zeros from an IP address.\n",
    "(Done)"
   ]
  },
  {
   "cell_type": "code",
   "execution_count": 27,
   "id": "3f29b14f",
   "metadata": {},
   "outputs": [
    {
     "name": "stdout",
     "output_type": "stream",
     "text": [
      "192.168.1.1\n"
     ]
    }
   ],
   "source": [
    "def x(ip_address):\n",
    "    octets = ip_address.split('.')\n",
    "    cleaned_octets = [str(int(octet)) for octet in octets]\n",
    "    cleaned_ip_address = '.'.join(cleaned_octets)\n",
    "    return cleaned_ip_address\n",
    "\n",
    "# Example usage:\n",
    "ip_address = \"192.168.001.001\"\n",
    "cleaned_ip = x(ip_address)\n",
    "\n",
    "print( cleaned_ip)"
   ]
  },
  {
   "cell_type": "code",
   "execution_count": null,
   "id": "1fd5289e",
   "metadata": {},
   "outputs": [],
   "source": []
  },
  {
   "cell_type": "raw",
   "id": "596ca48c",
   "metadata": {},
   "source": [
    "15.Write a Python program to search some literals strings in a string. \n",
    "(Not Done)"
   ]
  },
  {
   "cell_type": "code",
   "execution_count": 2,
   "id": "5b726cce",
   "metadata": {},
   "outputs": [
    {
     "name": "stdout",
     "output_type": "stream",
     "text": [
      "Pattern 'fox':\n",
      "  Using find() method: Found at index 16\n",
      "  Using index() method: Found at index 16\n",
      "Pattern 'dog':\n",
      "  Using find() method: Found at index 40\n",
      "  Using index() method: Found at index 40\n",
      "Pattern 'horse':\n",
      "  Using find() method: Not found\n",
      "  Using index() method: Not found\n"
     ]
    }
   ],
   "source": [
    "def X(string, patterns):\n",
    "    locations = {}\n",
    "    for pattern in patterns:\n",
    "        # Using find() method\n",
    "        location_find = string.find(pattern)\n",
    "        # Using index() method\n",
    "        try:\n",
    "            location_index = string.index(pattern)\n",
    "        except ValueError:\n",
    "            location_index = -1  # If pattern is not found\n",
    "        locations[pattern] = (location_find, location_index)\n",
    "    return locations\n",
    "\n",
    "# Example usage:\n",
    "original_string = 'The quick brown fox jumps over the lazy dog.'\n",
    "patterns = ['fox', 'dog', 'horse']\n",
    "found_locations = X(original_string, patterns)\n",
    "for pattern, (location_find, location_index) in found_locations.items():\n",
    "    print(f\"Pattern '{pattern}':\")\n",
    "    if location_find != -1:\n",
    "        print(f\"  Using find() method: Found at index {location_find}\")\n",
    "    else:\n",
    "        print(f\"  Using find() method: Not found\")\n",
    "    \n",
    "    if location_index != -1:\n",
    "        print(f\"  Using index() method: Found at index {location_index}\")\n",
    "    else:\n",
    "        print(f\"  Using index() method: Not found\")\n"
   ]
  },
  {
   "cell_type": "raw",
   "id": "774e1a3a",
   "metadata": {},
   "source": [
    "16.Write a Python program to search a literals string in a string and also find the location within the original string where the pattern occurs\n",
    "A='The quick brown fox jumps over the lazy dog.\n",
    "find fox"
   ]
  },
  {
   "cell_type": "code",
   "execution_count": 3,
   "id": "4eb9b856",
   "metadata": {},
   "outputs": [
    {
     "name": "stdout",
     "output_type": "stream",
     "text": [
      "Using find() method:\n",
      "Pattern 'fox' found at index 16\n",
      "\n",
      "Using index() method:\n",
      "Pattern 'fox' found at index 16\n"
     ]
    }
   ],
   "source": [
    "def X(string, pattern):\n",
    "    # Using find() method\n",
    "    location_find = string.find(pattern)\n",
    "    # Using index() method\n",
    "    try:\n",
    "        location_index = string.index(pattern)\n",
    "    except ValueError:\n",
    "        location_index = -1  # If pattern is not found\n",
    "\n",
    "    return location_find, location_index\n",
    "# Example usage:\n",
    "original_string = 'The quick brown fox jumps over the lazy dog.'\n",
    "pattern = \"fox\"\n",
    "location_find, location_index = X(original_string, pattern)\n",
    "print(\"Using find() method:\")\n",
    "if location_find != -1:\n",
    "    print(f\"Pattern '{pattern}' found at index {location_find}\")\n",
    "else:\n",
    "    print(f\"Pattern '{pattern}' not found\")\n",
    "\n",
    "print(\"\\nUsing index() method:\")\n",
    "if location_index != -1:\n",
    "    print(f\"Pattern '{pattern}' found at index {location_index}\")\n",
    "else:\n",
    "    print(f\"Pattern '{pattern}' not found\")"
   ]
  },
  {
   "cell_type": "raw",
   "id": "5eb90ebc",
   "metadata": {},
   "source": [
    "17.Write a Python program to find the substrings within a string.\n",
    "(Done)"
   ]
  },
  {
   "cell_type": "code",
   "execution_count": 4,
   "id": "44d3f37d",
   "metadata": {},
   "outputs": [
    {
     "name": "stdout",
     "output_type": "stream",
     "text": [
      "exercises\n",
      "exercises\n",
      "exercises\n"
     ]
    }
   ],
   "source": [
    "text = 'Python exercises, PHP exercises, C# exercises'\n",
    "pattern = 'exercises'\n",
    "for match in re.findall(pattern, text):\n",
    "    print(\"%s\" % match)\n"
   ]
  },
  {
   "cell_type": "raw",
   "id": "969bd8aa",
   "metadata": {},
   "source": [
    "18- Write a Python program to find the occurrence and position of the substrings within a string.\n",
    "(Done)"
   ]
  },
  {
   "cell_type": "code",
   "execution_count": 43,
   "id": "8f88673f",
   "metadata": {},
   "outputs": [
    {
     "name": "stdout",
     "output_type": "stream",
     "text": [
      "Found \"exercises\" at 7:16\n",
      "Found \"exercises\" at 22:31\n",
      "Found \"exercises\" at 36:45\n"
     ]
    }
   ],
   "source": [
    "text = 'Python exercises, PHP exercises, C# exercises'\n",
    "pattern = 'exercises'\n",
    "for match in re.finditer(pattern, text):\n",
    "    s = match.start()\n",
    "    e = match.end()\n",
    "    print('Found \"%s\" at %d:%d' % (text[s:e], s, e))"
   ]
  },
  {
   "cell_type": "raw",
   "id": "7343d6af",
   "metadata": {},
   "source": [
    "19.Write a Python program to convert a date of yyyy-mm-dd format to dd-mm-yyyy format.\n",
    "(Done)"
   ]
  },
  {
   "cell_type": "code",
   "execution_count": 5,
   "id": "f1a694df",
   "metadata": {},
   "outputs": [
    {
     "name": "stdout",
     "output_type": "stream",
     "text": [
      "New date in DD-MM-YYYY Format:  02-01-2026\n"
     ]
    }
   ],
   "source": [
    "\n",
    "def X(dt):\n",
    "        return re.sub(r'(\\d{4})-(\\d{1,2})-(\\d{1,2})', '\\\\3-\\\\2-\\\\1', dt)\n",
    "dt1 = \"2026-01-02\"\n",
    "\n",
    "print(\"New date in DD-MM-YYYY Format: \",X(dt1))\n"
   ]
  },
  {
   "cell_type": "raw",
   "id": "8c981401",
   "metadata": {},
   "source": [
    "20.Create a function in python to find all decimal numbers with a precision of 1 or 2 in a string. The use of the re.compile() method is mandatory.\n",
    "Ans: : ['01.12', '145.8', '3.01', '27.25', '0.25']\n",
    "(Ans not matching)"
   ]
  },
  {
   "cell_type": "code",
   "execution_count": 7,
   "id": "eb237a55",
   "metadata": {},
   "outputs": [
    {
     "name": "stdout",
     "output_type": "stream",
     "text": [
      "['.12', '', '', '', '', '.8', '.01', '.25', '.25']\n"
     ]
    }
   ],
   "source": [
    "import re\n",
    "\n",
    "def X(text):\n",
    "    pattern = re.compile(r'\\b\\d+(\\.\\d{1,2})?\\b')\n",
    "    return pattern.findall(text)\n",
    "\n",
    "# Example usage:\n",
    "text = \"01.12 0132.123 2.31875 145.8 3.01 27.25 0.25\"\n",
    "Y = X(text)\n",
    "print()\n"
   ]
  },
  {
   "cell_type": "raw",
   "id": "d5629abb",
   "metadata": {},
   "source": [
    "21.Write a Python program to separate and print the numbers and their position of a given string.\n",
    "Ans:Done"
   ]
  },
  {
   "cell_type": "code",
   "execution_count": 16,
   "id": "55e398e7",
   "metadata": {},
   "outputs": [
    {
     "name": "stdout",
     "output_type": "stream",
     "text": [
      "Numbers and their positions in the string:\n",
      "Number: 123, Position: 6\n",
      "Number: 456, Position: 16\n"
     ]
    }
   ],
   "source": [
    "import re\n",
    "\n",
    "def X(string):\n",
    "    # Using regular expression to find numbers in the string along with their positions\n",
    "    Y = [(match.group(), match.start()) for match in re.finditer(r'\\d+', string)]\n",
    "    \n",
    "    # Printing numbers along with their positions\n",
    "    for number, position in Y:\n",
    "        print(f\"Number: {number}, Position: {position}\")\n",
    "\n",
    "# Test the function with a sample string\n",
    "sample_string = \"Hello 123 world 456!\"\n",
    "print(\"Numbers and their positions in the string:\")\n",
    "X(sample_string)\n"
   ]
  },
  {
   "cell_type": "raw",
   "id": "7f58fa56",
   "metadata": {},
   "source": [
    "22.Write a regular expression in python program to extract maximum/largest numeric value from a string.\n",
    "Ans:950\n",
    "(Done)"
   ]
  },
  {
   "cell_type": "code",
   "execution_count": 18,
   "id": "9c263827",
   "metadata": {},
   "outputs": [
    {
     "name": "stdout",
     "output_type": "stream",
     "text": [
      "Maximum numeric value: 950\n"
     ]
    }
   ],
   "source": [
    "import re\n",
    "\n",
    "def x(text):\n",
    "    numeric_values = re.findall(r'\\b\\d+\\b', text)\n",
    "    if numeric_values:\n",
    "        return max(map(int, numeric_values))\n",
    "    else:\n",
    "        return None\n",
    "\n",
    "# Example usage:\n",
    "text = 'My marks in each semester are: 947, 896, 926, 524, 734, 950, 642'\n",
    "y = x(text)\n",
    "print(\"Maximum numeric value:\", y)\n"
   ]
  },
  {
   "cell_type": "raw",
   "id": "d58c5ffc",
   "metadata": {},
   "source": [
    "23.Create a function in python to insert spaces between words starting with capital letters.\n",
    "A= RegularExpressionIsAnImportantTopicInPython\n",
    "output: Regular Expression Is An Important Topic In Python\n",
    "(Done)"
   ]
  },
  {
   "cell_type": "code",
   "execution_count": 20,
   "id": "2929e2ae",
   "metadata": {},
   "outputs": [
    {
     "name": "stdout",
     "output_type": "stream",
     "text": [
      "Regular Expression Is An Important Topic In Python\n"
     ]
    }
   ],
   "source": [
    "def x(text):\n",
    "    result = \"\"\n",
    "    for char in text:\n",
    "        if char.isupper():\n",
    "            result += \" \" + char\n",
    "        else:\n",
    "            result += char\n",
    "    return result.strip()\n",
    "\n",
    "# Example usage:\n",
    "text = \"RegularExpressionIsAnImportantTopicInPython\"\n",
    "y = x(text)\n",
    "print(y)\n"
   ]
  },
  {
   "cell_type": "raw",
   "id": "009fd868",
   "metadata": {},
   "source": [
    "24.Python regex to find sequences of one upper case letter followed by lower case letters\n",
    "(Done)"
   ]
  },
  {
   "cell_type": "code",
   "execution_count": 21,
   "id": "09e707c1",
   "metadata": {},
   "outputs": [
    {
     "name": "stdout",
     "output_type": "stream",
     "text": [
      "['This', 'Is', 'Test', 'Sentence', 'With', 'Camel', 'Case', 'Words', 'And', 'More', 'Stuff']\n"
     ]
    }
   ],
   "source": [
    "def x(text):\n",
    "    pattern = r\"[A-Z][a-z]+\"\n",
    "    matches = re.findall(pattern, text)\n",
    "    return matches\n",
    "\n",
    "text = \"ThisIsA TestSentence WithCamelCase WordsAndMoreStuff\"\n",
    "sequences = x(text)\n",
    "print(sequences)"
   ]
  },
  {
   "cell_type": "raw",
   "id": "253eaaa8",
   "metadata": {},
   "source": [
    "25.Write a Python program to remove continuous duplicate words from Sentence using Regular Expression.\n",
    "Ans: Hello hello world\n",
    "(Done)"
   ]
  },
  {
   "cell_type": "code",
   "execution_count": 23,
   "id": "6c9d169b",
   "metadata": {},
   "outputs": [
    {
     "name": "stdout",
     "output_type": "stream",
     "text": [
      "Modified sentence: Hello hello world\n"
     ]
    }
   ],
   "source": [
    "\n",
    "def x(sentence):\n",
    "    pattern = r'\\b(\\w+)(\\s+\\1)+\\b'\n",
    "    modified_sentence = re.sub(pattern, r'\\1', sentence)\n",
    "    return modified_sentence\n",
    "\n",
    "# Example usage:\n",
    "sentence = \"Hello hello world world\"\n",
    "result = x(sentence)\n",
    "print(\"Modified sentence:\", result)\n"
   ]
  },
  {
   "cell_type": "raw",
   "id": "7e647e53",
   "metadata": {},
   "source": [
    "26.- Write a python program using RegEx to accept string ending with alphanumeric character.\n",
    "(Done)"
   ]
  },
  {
   "cell_type": "code",
   "execution_count": 24,
   "id": "5a11a151",
   "metadata": {},
   "outputs": [
    {
     "name": "stdout",
     "output_type": "stream",
     "text": [
      "True\n",
      "False\n",
      "True\n"
     ]
    }
   ],
   "source": [
    "\n",
    "\n",
    "def x(string):\n",
    "    pattern = r'^.*[a-zA-Z0-9]$'\n",
    "    if re.match(pattern, string):\n",
    "        return True\n",
    "    else:\n",
    "        return False\n",
    "\n",
    "# Example usage:\n",
    "string1 = \"abc123\"\n",
    "string2 = \"hello123 \"\n",
    "string3 = \"hello123\"\n",
    "\n",
    "print(x(string1))  # True\n",
    "print(x(string2))  # False\n",
    "print(x(string3))  # True\n"
   ]
  },
  {
   "cell_type": "raw",
   "id": "a2f86283",
   "metadata": {},
   "source": [
    "27-Write a python program using RegEx to extract the hashtags.\n",
    "['#Doltiwal', '#xyzabc', '#Demonetization'\n",
    "(done)"
   ]
  },
  {
   "cell_type": "code",
   "execution_count": 25,
   "id": "96d0b22c",
   "metadata": {},
   "outputs": [
    {
     "name": "stdout",
     "output_type": "stream",
     "text": [
      "Hashtags: ['#Doltiwal', '#xyzabc', '#Demonetization']\n"
     ]
    }
   ],
   "source": [
    "import re\n",
    "\n",
    "def x(text):\n",
    "    pattern = r'\\B#\\w+'\n",
    "    hashtags = re.findall(pattern, text)\n",
    "    return hashtags\n",
    "\n",
    "# Example usage:\n",
    "text = \"\"\"RT @kapil_kausik: #Doltiwal I mean #xyzabc is \"hurt\" by \\\n",
    "#Demonetization as the same has rendered USELESS <ed><U+00A0><U+00BD><ed><U+00B1><U+0089>\\\n",
    "\"acquired funds\" No wo\"\"\"\n",
    "hashtags = x(text)\n",
    "print(\"Hashtags:\", hashtags)\n"
   ]
  },
  {
   "cell_type": "raw",
   "id": "f117345c",
   "metadata": {},
   "source": [
    "28.Write a python program using RegEx to remove <U+..> like symbols\n",
    "Ans: @Jags123456 Bharat band on 28??<ed><ed>Those who  are protesting #demonetization  are all different party leaders\n",
    "(Done)"
   ]
  },
  {
   "cell_type": "code",
   "execution_count": 26,
   "id": "3bf2b070",
   "metadata": {},
   "outputs": [
    {
     "name": "stdout",
     "output_type": "stream",
     "text": [
      "Cleaned text: @Jags123456 Bharat band on 28??<ed><ed>Thosewho  are protesting#demonetization  are all different party leaders\n"
     ]
    }
   ],
   "source": [
    "def x(text):\n",
    "    pattern = r'<U\\+\\w+>'\n",
    "    cleaned_text = re.sub(pattern, '', text)\n",
    "    return cleaned_text\n",
    "\n",
    "# Example usage:\n",
    "text = \"@Jags123456 Bharat band on 28??<ed><U+00A0><U+00BD><ed><U+00B8><U+0082>Those\\\n",
    "who  are protesting\\\n",
    "#demonetization  are all different party leaders\"\n",
    "cleaned_text = x(text)\n",
    "print(\"Cleaned text:\", cleaned_text)\n"
   ]
  },
  {
   "cell_type": "raw",
   "id": "cfb975ed",
   "metadata": {},
   "source": [
    "29.Write a python program to extract dates from the text stored in the text file."
   ]
  },
  {
   "cell_type": "raw",
   "id": "18ef5cb3",
   "metadata": {},
   "source": [
    "30.Create a function in python to remove all words from a string of length between 2 and 4.\n",
    "The use of the re.compile() method is mandatory.\n",
    "Ans:following example creates ArrayList a capacity elements. 4 elements added ArrayList ArrayList trimmed accordingly.\n",
    "(Done)"
   ]
  },
  {
   "cell_type": "code",
   "execution_count": 28,
   "id": "7d677260",
   "metadata": {},
   "outputs": [
    {
     "name": "stdout",
     "output_type": "stream",
     "text": [
      "Filtered text:  following example creates  ArrayList  a capacity  elements. 4 elements   added tothe ArrayList   ArrayList  trimmed accordingly.\n"
     ]
    }
   ],
   "source": [
    "def x(text):\n",
    "    pattern = re.compile(r'\\b\\w{2,4}\\b')\n",
    "    return re.sub(pattern, '', text)\n",
    "\n",
    "# Example usage:\n",
    "text = \"The following example creates an ArrayList with a capacity of\\\n",
    "50 elements. 4 elements are then added to\\\n",
    "the ArrayList and the ArrayList is trimmed accordingly.\"\n",
    "filtered_text = x(text)\n",
    "print(\"Filtered text:\", filtered_text)\n"
   ]
  }
 ],
 "metadata": {
  "kernelspec": {
   "display_name": "Python 3 (ipykernel)",
   "language": "python",
   "name": "python3"
  },
  "language_info": {
   "codemirror_mode": {
    "name": "ipython",
    "version": 3
   },
   "file_extension": ".py",
   "mimetype": "text/x-python",
   "name": "python",
   "nbconvert_exporter": "python",
   "pygments_lexer": "ipython3",
   "version": "3.9.13"
  }
 },
 "nbformat": 4,
 "nbformat_minor": 5
}
